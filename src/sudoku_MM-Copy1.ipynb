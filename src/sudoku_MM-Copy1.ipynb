{
 "cells": [
  {
   "cell_type": "code",
   "execution_count": 1,
   "id": "9e2fe4f1",
   "metadata": {},
   "outputs": [
    {
     "name": "stdout",
     "output_type": "stream",
     "text": [
      "4.5.5\n"
     ]
    }
   ],
   "source": [
    "import cv2 as cv\n",
    "import numpy as np\n",
    "print(cv.__version__)"
   ]
  },
  {
   "cell_type": "code",
   "execution_count": 2,
   "id": "f1631331",
   "metadata": {},
   "outputs": [],
   "source": [
    "def show_wait_destroy(winname, img):\n",
    "    cv.namedWindow(winname, cv.WINDOW_NORMAL)\n",
    "    cv.imshow(winname, img)\n",
    "    cv.resizeWindow(winname, 400, 300)\n",
    "    cv.moveWindow(winname, 380, 200)\n",
    "    cv.waitKey(0)\n",
    "    cv.destroyWindow(winname)"
   ]
  },
  {
   "cell_type": "code",
   "execution_count": 3,
   "id": "ebebfbd5",
   "metadata": {},
   "outputs": [],
   "source": [
    "image = cv.imread('sudoku_3.jpg')\n",
    "gray = cv.cvtColor(image, cv.COLOR_BGR2GRAY)\n",
    "show_wait_destroy('img', gray)"
   ]
  },
  {
   "cell_type": "code",
   "execution_count": 4,
   "id": "13161b43",
   "metadata": {},
   "outputs": [],
   "source": [
    "gray = cv.bitwise_not(gray)\n",
    "bw = cv.adaptiveThreshold(gray, 255, cv.ADAPTIVE_THRESH_MEAN_C, \\\n",
    "                                cv.THRESH_BINARY, 15, -2)\n",
    "show_wait_destroy(\"binary\", bw)"
   ]
  },
  {
   "cell_type": "code",
   "execution_count": 75,
   "id": "2cc027d6",
   "metadata": {},
   "outputs": [],
   "source": [
    "\n",
    "horizontal = np.copy(bw)\n",
    "vertical = np.copy(bw)\n",
    "cols = horizontal.shape[1]\n",
    "horizontal_size = cols // 10\n",
    "horizontalStructure = cv.getStructuringElement(cv.MORPH_RECT, (horizontal_size, 1))\n",
    "# Apply morphology operations\n",
    "horizontal = cv.erode(horizontal, horizontalStructure)\n",
    "horizontal = cv.dilate(horizontal, horizontalStructure)\n",
    "# Show extracted horizontal lines\n",
    "show_wait_destroy(\"horizontal\", horizontal)"
   ]
  },
  {
   "cell_type": "code",
   "execution_count": 76,
   "id": "8b99a821",
   "metadata": {},
   "outputs": [],
   "source": [
    "rows = vertical.shape[0]\n",
    "verticalsize = rows // 10\n",
    "# Create structure element for extracting vertical lines through morphology operations\n",
    "verticalStructure = cv.getStructuringElement(cv.MORPH_RECT, (1, verticalsize))\n",
    "# Apply morphology operations\n",
    "vertical = cv.erode(vertical, verticalStructure)\n",
    "vertical = cv.dilate(vertical, verticalStructure)\n",
    "# Show extracted vertical lines\n",
    "show_wait_destroy(\"vertical\", vertical)"
   ]
  },
  {
   "cell_type": "code",
   "execution_count": 77,
   "id": "69566a83",
   "metadata": {},
   "outputs": [],
   "source": [
    "bitwiseOr = cv2.bitwise_or(horizontal,vertical)\n",
    "show_wait_destroy(\"bitwiseOr\", bitwiseOr)\n"
   ]
  },
  {
   "cell_type": "code",
   "execution_count": 78,
   "id": "816696d1",
   "metadata": {},
   "outputs": [],
   "source": [
    "squares = cv.bitwise_not(bitwiseOr)\n",
    "show_wait_destroy(\"squares\", squares)"
   ]
  },
  {
   "cell_type": "code",
   "execution_count": 57,
   "id": "d480c4d2",
   "metadata": {},
   "outputs": [],
   "source": [
    "merge = cv.bitwise_and(squares, bw)\n",
    "show_wait_destroy(\"merge\", merge)"
   ]
  },
  {
   "cell_type": "code",
   "execution_count": null,
   "id": "a83b4332",
   "metadata": {},
   "outputs": [],
   "source": [
    "\n",
    "\n"
   ]
  },
  {
   "cell_type": "code",
   "execution_count": null,
   "id": "631a4233",
   "metadata": {},
   "outputs": [],
   "source": []
  },
  {
   "cell_type": "code",
   "execution_count": 65,
   "id": "3b9b4e44",
   "metadata": {},
   "outputs": [
    {
     "name": "stdout",
     "output_type": "stream",
     "text": [
      "456\n"
     ]
    }
   ],
   "source": [
    "import math\n",
    "img = cv.imread(\"sudoku.png\")\n",
    "gray = cv.cvtColor(img, cv.COLOR_BGR2GRAY)\n",
    "show_wait_destroy(\"gray\", gray)\n",
    "edges = cv.Canny(gray, 100,100)\n",
    "show_wait_destroy(\"edges\", edges)\n",
    "lines = cv.HoughLinesP(edges, 1, math.pi/2, 2, None, 10, 1)\n",
    "print(len(lines))\n",
    "for line in lines[0]:\n",
    "    pt1 = (line[0],line[1])\n",
    "    pt2 = (line[2],line[3])\n",
    "    cv.line(img, pt1, pt2, (0,0,255), 3)\n",
    "show_wait_destroy(\"merge\", img)"
   ]
  },
  {
   "cell_type": "code",
   "execution_count": 5,
   "id": "78061dd6",
   "metadata": {},
   "outputs": [],
   "source": [
    "import cv2\n",
    "image = cv2.imread('sudoku_2.png')\n",
    "result = image.copy()\n",
    "gray = cv2.cvtColor(image,cv2.COLOR_BGR2GRAY)\n",
    "thresh = cv2.threshold(gray, 0, 255, cv2.THRESH_BINARY_INV + cv2.THRESH_OTSU)[1]\n",
    "show_wait_destroy(\"thresh\", thresh)\n",
    "horizontal = np.copy(bw)\n",
    "cols = horizontal.shape[1]\n",
    "horizontal_size = cols // 5\n",
    "# Detect horizontal lines\n",
    "horizontal_kernel = cv2.getStructuringElement(cv2.MORPH_RECT, (horizontal_size,1))\n",
    "detect_horizontal = cv2.morphologyEx(thresh, cv2.MORPH_OPEN, horizontal_kernel, iterations=2)\n",
    "show_wait_destroy(\"detect_horizontal\", detect_horizontal)\n",
    "cnts_h = cv2.findContours(detect_horizontal, cv2.RETR_EXTERNAL, cv2.CHAIN_APPROX_SIMPLE)\n",
    "cnts_h = cnts_h[0] if len(cnts_h) == 2 else cnts_h[1]\n",
    "# print(cnts_h)\n",
    "for c in cnts_h:\n",
    "    cv2.drawContours(result, [c], -1, (36,255,12), 2)\n",
    "vertical = np.copy(bw)\n",
    "show_wait_destroy(\"result-1\", result)\n",
    "rows = vertical.shape[0]\n",
    "verticalsize = rows // 5\n",
    "# Detect vertical lines\n",
    "vertical_kernel = cv2.getStructuringElement(cv2.MORPH_RECT, (1,verticalsize))\n",
    "detect_vertical = cv2.morphologyEx(thresh, cv2.MORPH_OPEN, vertical_kernel, iterations=2)\n",
    "show_wait_destroy(\"detect_horizontal\", detect_vertical)\n",
    "cnts_v = cv2.findContours(detect_vertical, cv2.RETR_EXTERNAL, cv2.CHAIN_APPROX_SIMPLE)\n",
    "cnts_v = cnts_v[0] if len(cnts_v) == 2 else cnts_v[1]\n",
    "for c in cnts_v:\n",
    "    cv2.drawContours(result, [c], -1, (36,255,12), 2)\n",
    "    \n",
    "show_wait_destroy(\"result-2\", result)"
   ]
  },
  {
   "cell_type": "code",
   "execution_count": 69,
   "id": "9b7cad48",
   "metadata": {},
   "outputs": [],
   "source": [
    "show_wait_destroy(\"result\", result)"
   ]
  },
  {
   "cell_type": "code",
   "execution_count": 111,
   "id": "c3638a99",
   "metadata": {},
   "outputs": [
    {
     "name": "stdout",
     "output_type": "stream",
     "text": [
      "[[[  5   2]]\n",
      "\n",
      " [[  5   3]]\n",
      "\n",
      " [[224   3]]\n",
      "\n",
      " [[224   2]]]\n",
      "[[[  3   2]]\n",
      "\n",
      " [[  3 221]]\n",
      "\n",
      " [[  3 113]]\n",
      "\n",
      " [[  4 112]]\n",
      "\n",
      " [[  4   2]]]\n"
     ]
    }
   ],
   "source": [
    "print(cnts_h[6])\n",
    "print(cnts_v[6])"
   ]
  },
  {
   "cell_type": "code",
   "execution_count": 157,
   "id": "d224bf0b",
   "metadata": {},
   "outputs": [],
   "source": [
    "out = cv2.rectangle(result, (37,2),(3,38), (0, 0, 255), 2)\n",
    "show_wait_destroy(\"result\", out)"
   ]
  },
  {
   "cell_type": "code",
   "execution_count": 122,
   "id": "04f8a774",
   "metadata": {},
   "outputs": [
    {
     "name": "stdout",
     "output_type": "stream",
     "text": [
      "5\n",
      "5\n",
      "224\n",
      "224\n"
     ]
    }
   ],
   "source": [
    "for c in cnts_h[0]:\n",
    "    print(c[0][0])"
   ]
  },
  {
   "cell_type": "code",
   "execution_count": 6,
   "id": "9d47530c",
   "metadata": {},
   "outputs": [
    {
     "name": "stdout",
     "output_type": "stream",
     "text": [
      "[220, 221, 221, 220, 185, 185, 149, 149, 112, 112, 75, 76, 76, 75, 39, 39, 2, 3, 3, 2]\n"
     ]
    }
   ],
   "source": [
    "flat_list =[]\n",
    "for list in cnts_h:\n",
    "    for sublist in list:\n",
    "        flat_list.append(sublist[0][1])\n",
    "print(flat_list)"
   ]
  },
  {
   "cell_type": "code",
   "execution_count": 7,
   "id": "eb663a4e",
   "metadata": {},
   "outputs": [
    {
     "name": "stdout",
     "output_type": "stream",
     "text": [
      "[221, 221, 222, 222, 186, 186, 149, 149, 113, 113, 76, 76, 39, 39, 3, 3, 3, 4, 4]\n"
     ]
    }
   ],
   "source": [
    "flat_list_2 =[]\n",
    "for list in cnts_v:\n",
    "    for sublist in list:\n",
    "        flat_list_2.append(sublist[0][0])\n",
    "print(flat_list_2)"
   ]
  },
  {
   "cell_type": "code",
   "execution_count": 149,
   "id": "528039f7",
   "metadata": {},
   "outputs": [],
   "source": [
    "f1 = [sublist[0][1] for lists in cnts_h for sublist in lists]\n",
    "h_max = max(f1)\n",
    "h_min = min(f1)\n"
   ]
  },
  {
   "cell_type": "code",
   "execution_count": 153,
   "id": "9a621504",
   "metadata": {},
   "outputs": [
    {
     "name": "stdout",
     "output_type": "stream",
     "text": [
      "221\n",
      "2\n",
      "31\n"
     ]
    }
   ],
   "source": [
    "print(h_max)\n",
    "print(h_min)\n",
    "h_splits = (h_max+h_min)//len(cnts_h)\n",
    "print(h_splits)"
   ]
  },
  {
   "cell_type": "code",
   "execution_count": 152,
   "id": "56cb66ed",
   "metadata": {},
   "outputs": [],
   "source": [
    "show_wait_destroy(\"result\", image)"
   ]
  },
  {
   "cell_type": "code",
   "execution_count": 165,
   "id": "bd90b24f",
   "metadata": {},
   "outputs": [],
   "source": [
    "out = cv2.rectangle(result, (76,2),(112,76), (0, 0, 255), 2)\n",
    "show_wait_destroy(\"result\", out)"
   ]
  },
  {
   "cell_type": "code",
   "execution_count": 8,
   "id": "b7b27567",
   "metadata": {},
   "outputs": [
    {
     "name": "stdout",
     "output_type": "stream",
     "text": [
      "[3, 4, 39, 76, 113, 149, 186, 221, 222]\n",
      "[4, 39, 76, 113, 149, 186, 222]\n"
     ]
    }
   ],
   "source": [
    "l2 = sorted(set(flat_list_2))\n",
    "print(l2)\n",
    "for x in l2:\n",
    "    r = [*range(x-1,x+1,2)]\n",
    "    for y in r:\n",
    "        if y in l2 :\n",
    "            l2.remove(y)        \n",
    "print(l2)"
   ]
  },
  {
   "cell_type": "code",
   "execution_count": 9,
   "id": "7a86e337",
   "metadata": {},
   "outputs": [
    {
     "name": "stdout",
     "output_type": "stream",
     "text": [
      "[2, 3, 39, 75, 76, 112, 149, 185, 220, 221]\n",
      "[3, 39, 76, 112, 149, 185, 221]\n"
     ]
    }
   ],
   "source": [
    "l = sorted(set(flat_list))\n",
    "print(l)\n",
    "for x in l:\n",
    "    r = [*range(x-1,x+1,2)]\n",
    "    for y in r:\n",
    "        if y in l :\n",
    "            l.remove(y)        \n",
    "print(l)"
   ]
  },
  {
   "cell_type": "code",
   "execution_count": 10,
   "id": "166d00c0",
   "metadata": {},
   "outputs": [
    {
     "name": "stdout",
     "output_type": "stream",
     "text": [
      "[3, 39, 76, 112, 149, 185, 221]\n",
      "[4, 39, 76, 113, 149, 186, 222]\n"
     ]
    }
   ],
   "source": [
    "print(l)\n",
    "print(l2)"
   ]
  },
  {
   "cell_type": "code",
   "execution_count": 201,
   "id": "4b58ef9a",
   "metadata": {},
   "outputs": [],
   "source": [
    "cropped = result[3:39 , 149:185]\n",
    "show_wait_destroy(\"result\", cropped)"
   ]
  },
  {
   "cell_type": "code",
   "execution_count": 28,
   "id": "7aac03d3",
   "metadata": {},
   "outputs": [
    {
     "ename": "TypeError",
     "evalue": "'type' object is not subscriptable",
     "output_type": "error",
     "traceback": [
      "\u001b[1;31m---------------------------------------------------------------------------\u001b[0m",
      "\u001b[1;31mTypeError\u001b[0m                                 Traceback (most recent call last)",
      "Input \u001b[1;32mIn [28]\u001b[0m, in \u001b[0;36m<cell line: 4>\u001b[1;34m()\u001b[0m\n\u001b[0;32m      1\u001b[0m \u001b[38;5;66;03m# print(zip(l, l[1:]))\u001b[39;00m\n\u001b[0;32m      2\u001b[0m \u001b[38;5;66;03m#         cropped = result[x:y , x:y]\u001b[39;00m\n\u001b[0;32m      3\u001b[0m \u001b[38;5;66;03m#         show_wait_destroy(\"result\", cropped)\u001b[39;00m\n\u001b[1;32m----> 4\u001b[0m z1\u001b[38;5;241m=\u001b[39m(\u001b[38;5;28;43mzip\u001b[39;49m\u001b[43m[\u001b[49m\u001b[43ml\u001b[49m\u001b[43m,\u001b[49m\u001b[43ml\u001b[49m\u001b[43m[\u001b[49m\u001b[38;5;241;43m1\u001b[39;49m\u001b[43m:\u001b[49m\u001b[43m]\u001b[49m\u001b[43m]\u001b[49m)\n\u001b[0;32m      5\u001b[0m z2\u001b[38;5;241m=\u001b[39m\u001b[38;5;28mzip\u001b[39m(l2,l2[\u001b[38;5;241m1\u001b[39m:])\n",
      "\u001b[1;31mTypeError\u001b[0m: 'type' object is not subscriptable"
     ]
    }
   ],
   "source": [
    "# print(zip(l, l[1:]))\n",
    "#         cropped = result[x:y , x:y]\n",
    "#         show_wait_destroy(\"result\", cropped)\n",
    "z1=(zip(l,l[1:]))\n",
    "z2=zip(l2,l2[1:])"
   ]
  },
  {
   "cell_type": "code",
   "execution_count": 27,
   "id": "65761cdd",
   "metadata": {},
   "outputs": [
    {
     "ename": "IndexError",
     "evalue": "only integers, slices (`:`), ellipsis (`...`), numpy.newaxis (`None`) and integer or boolean arrays are valid indices",
     "output_type": "error",
     "traceback": [
      "\u001b[1;31m---------------------------------------------------------------------------\u001b[0m",
      "\u001b[1;31mIndexError\u001b[0m                                Traceback (most recent call last)",
      "Input \u001b[1;32mIn [27]\u001b[0m, in \u001b[0;36m<cell line: 1>\u001b[1;34m()\u001b[0m\n\u001b[1;32m----> 1\u001b[0m \u001b[38;5;28mprint\u001b[39m(\u001b[38;5;28;43mlist\u001b[39;49m\u001b[43m[\u001b[49m\u001b[43mz1\u001b[49m\u001b[43m]\u001b[49m)\n",
      "\u001b[1;31mIndexError\u001b[0m: only integers, slices (`:`), ellipsis (`...`), numpy.newaxis (`None`) and integer or boolean arrays are valid indices"
     ]
    }
   ],
   "source": [
    "print(list(z1))"
   ]
  },
  {
   "cell_type": "code",
   "execution_count": null,
   "id": "887cd454",
   "metadata": {},
   "outputs": [],
   "source": []
  }
 ],
 "metadata": {
  "kernelspec": {
   "display_name": "Python 3 (ipykernel)",
   "language": "python",
   "name": "python3"
  },
  "language_info": {
   "codemirror_mode": {
    "name": "ipython",
    "version": 3
   },
   "file_extension": ".py",
   "mimetype": "text/x-python",
   "name": "python",
   "nbconvert_exporter": "python",
   "pygments_lexer": "ipython3",
   "version": "3.10.0"
  }
 },
 "nbformat": 4,
 "nbformat_minor": 5
}
