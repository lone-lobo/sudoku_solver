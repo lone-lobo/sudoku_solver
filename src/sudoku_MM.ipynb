{
 "cells": [
  {
   "cell_type": "code",
   "execution_count": 47,
   "id": "5a1b38e1",
   "metadata": {},
   "outputs": [
    {
     "name": "stdout",
     "output_type": "stream",
     "text": [
      "4.5.5\n"
     ]
    }
   ],
   "source": [
    "import cv2 as cv\n",
    "import numpy as np\n",
    "print(cv.__version__)"
   ]
  },
  {
   "cell_type": "code",
   "execution_count": 48,
   "id": "1e76a679",
   "metadata": {},
   "outputs": [],
   "source": [
    "def show_wait_destroy(winname, img):\n",
    "    cv.namedWindow(winname, cv.WINDOW_NORMAL)\n",
    "    cv.imshow(winname, img)\n",
    "    cv.resizeWindow(winname, 400, 300)\n",
    "    cv.moveWindow(winname, 380, 200)\n",
    "    cv.waitKey(0)\n",
    "    cv.destroyWindow(winname)"
   ]
  },
  {
   "cell_type": "code",
   "execution_count": 73,
   "id": "fe950bdd",
   "metadata": {},
   "outputs": [],
   "source": [
    "image = cv.imread('sudoku_3.jpg')\n",
    "gray = cv.cvtColor(image, cv.COLOR_BGR2GRAY)\n",
    "show_wait_destroy('img', gray)"
   ]
  },
  {
   "cell_type": "code",
   "execution_count": 74,
   "id": "7941e2dc",
   "metadata": {},
   "outputs": [],
   "source": [
    "gray = cv.bitwise_not(gray)\n",
    "bw = cv.adaptiveThreshold(gray, 255, cv.ADAPTIVE_THRESH_MEAN_C, \\\n",
    "                                cv.THRESH_BINARY, 15, -2)\n",
    "show_wait_destroy(\"binary\", bw)"
   ]
  },
  {
   "cell_type": "code",
   "execution_count": 75,
   "id": "5cfba84f",
   "metadata": {},
   "outputs": [],
   "source": [
    "\n",
    "horizontal = np.copy(bw)\n",
    "vertical = np.copy(bw)\n",
    "cols = horizontal.shape[1]\n",
    "horizontal_size = cols // 10\n",
    "horizontalStructure = cv.getStructuringElement(cv.MORPH_RECT, (horizontal_size, 1))\n",
    "# Apply morphology operations\n",
    "horizontal = cv.erode(horizontal, horizontalStructure)\n",
    "horizontal = cv.dilate(horizontal, horizontalStructure)\n",
    "# Show extracted horizontal lines\n",
    "show_wait_destroy(\"horizontal\", horizontal)"
   ]
  },
  {
   "cell_type": "code",
   "execution_count": 76,
   "id": "cb169fb9",
   "metadata": {},
   "outputs": [],
   "source": [
    "rows = vertical.shape[0]\n",
    "verticalsize = rows // 10\n",
    "# Create structure element for extracting vertical lines through morphology operations\n",
    "verticalStructure = cv.getStructuringElement(cv.MORPH_RECT, (1, verticalsize))\n",
    "# Apply morphology operations\n",
    "vertical = cv.erode(vertical, verticalStructure)\n",
    "vertical = cv.dilate(vertical, verticalStructure)\n",
    "# Show extracted vertical lines\n",
    "show_wait_destroy(\"vertical\", vertical)"
   ]
  },
  {
   "cell_type": "code",
   "execution_count": 77,
   "id": "aa765e0b",
   "metadata": {},
   "outputs": [],
   "source": [
    "bitwiseOr = cv2.bitwise_or(horizontal,vertical)\n",
    "show_wait_destroy(\"bitwiseOr\", bitwiseOr)\n"
   ]
  },
  {
   "cell_type": "code",
   "execution_count": 78,
   "id": "ceb872db",
   "metadata": {},
   "outputs": [],
   "source": [
    "squares = cv.bitwise_not(bitwiseOr)\n",
    "show_wait_destroy(\"squares\", squares)"
   ]
  },
  {
   "cell_type": "code",
   "execution_count": 57,
   "id": "606eeed8",
   "metadata": {},
   "outputs": [],
   "source": [
    "merge = cv.bitwise_and(squares, bw)\n",
    "show_wait_destroy(\"merge\", merge)"
   ]
  },
  {
   "cell_type": "code",
   "execution_count": null,
   "id": "e670d6d1",
   "metadata": {},
   "outputs": [],
   "source": [
    "\n",
    "\n"
   ]
  },
  {
   "cell_type": "code",
   "execution_count": null,
   "id": "019ee443",
   "metadata": {},
   "outputs": [],
   "source": []
  },
  {
   "cell_type": "code",
   "execution_count": 65,
   "id": "cb5f80d0",
   "metadata": {},
   "outputs": [
    {
     "name": "stdout",
     "output_type": "stream",
     "text": [
      "456\n"
     ]
    }
   ],
   "source": [
    "import math\n",
    "img = cv.imread(\"sudoku.png\")\n",
    "gray = cv.cvtColor(img, cv.COLOR_BGR2GRAY)\n",
    "show_wait_destroy(\"gray\", gray)\n",
    "edges = cv.Canny(gray, 100,100)\n",
    "show_wait_destroy(\"edges\", edges)\n",
    "lines = cv.HoughLinesP(edges, 1, math.pi/2, 2, None, 10, 1)\n",
    "print(len(lines))\n",
    "for line in lines[0]:\n",
    "    pt1 = (line[0],line[1])\n",
    "    pt2 = (line[2],line[3])\n",
    "    cv.line(img, pt1, pt2, (0,0,255), 3)\n",
    "show_wait_destroy(\"merge\", img)"
   ]
  },
  {
   "cell_type": "code",
   "execution_count": 99,
   "id": "5e210e65",
   "metadata": {},
   "outputs": [],
   "source": [
    "import cv2\n",
    "image = cv2.imread('sudoku_2.png')\n",
    "result = image.copy()\n",
    "gray = cv2.cvtColor(image,cv2.COLOR_BGR2GRAY)\n",
    "thresh = cv2.threshold(gray, 0, 255, cv2.THRESH_BINARY_INV + cv2.THRESH_OTSU)[1]\n",
    "show_wait_destroy(\"thresh\", thresh)\n",
    "cols = horizontal.shape[1]\n",
    "horizontal_size = cols // 5\n",
    "# Detect horizontal lines\n",
    "horizontal_kernel = cv2.getStructuringElement(cv2.MORPH_RECT, (horizontal_size,1))\n",
    "detect_horizontal = cv2.morphologyEx(thresh, cv2.MORPH_OPEN, horizontal_kernel, iterations=2)\n",
    "show_wait_destroy(\"detect_horizontal\", detect_horizontal)\n",
    "cnts_h = cv2.findContours(detect_horizontal, cv2.RETR_EXTERNAL, cv2.CHAIN_APPROX_SIMPLE)\n",
    "cnts_h = cnts_h[0] if len(cnts_h) == 2 else cnts_h[1]\n",
    "# print(cnts_h)\n",
    "for c in cnts_h:\n",
    "    cv2.drawContours(result, [c], -1, (36,255,12), 2)\n",
    "    \n",
    "show_wait_destroy(\"result-1\", result)\n",
    "rows = vertical.shape[0]\n",
    "verticalsize = rows // 5\n",
    "# Detect vertical lines\n",
    "vertical_kernel = cv2.getStructuringElement(cv2.MORPH_RECT, (1,verticalsize))\n",
    "detect_vertical = cv2.morphologyEx(thresh, cv2.MORPH_OPEN, vertical_kernel, iterations=2)\n",
    "show_wait_destroy(\"detect_horizontal\", detect_vertical)\n",
    "cnts_v = cv2.findContours(detect_vertical, cv2.RETR_EXTERNAL, cv2.CHAIN_APPROX_SIMPLE)\n",
    "cnts_v = cnts_v[0] if len(cnts_v) == 2 else cnts_v[1]\n",
    "for c in cnts_v:\n",
    "    cv2.drawContours(result, [c], -1, (36,255,12), 2)\n",
    "    \n",
    "show_wait_destroy(\"result-2\", result)"
   ]
  },
  {
   "cell_type": "code",
   "execution_count": 69,
   "id": "08fb7fb7",
   "metadata": {},
   "outputs": [],
   "source": [
    "show_wait_destroy(\"result\", result)"
   ]
  },
  {
   "cell_type": "code",
   "execution_count": 111,
   "id": "26e9ffcd",
   "metadata": {},
   "outputs": [
    {
     "name": "stdout",
     "output_type": "stream",
     "text": [
      "[[[  5   2]]\n",
      "\n",
      " [[  5   3]]\n",
      "\n",
      " [[224   3]]\n",
      "\n",
      " [[224   2]]]\n",
      "[[[  3   2]]\n",
      "\n",
      " [[  3 221]]\n",
      "\n",
      " [[  3 113]]\n",
      "\n",
      " [[  4 112]]\n",
      "\n",
      " [[  4   2]]]\n"
     ]
    }
   ],
   "source": [
    "print(cnts_h[6])\n",
    "print(cnts_v[6])"
   ]
  },
  {
   "cell_type": "code",
   "execution_count": 118,
   "id": "b71b0d5a",
   "metadata": {},
   "outputs": [],
   "source": [
    "out = cv2.rectangle(result, (37,2),(3,38), (0, 0, 255), 2)\n",
    "show_wait_destroy(\"result\", out)"
   ]
  },
  {
   "cell_type": "code",
   "execution_count": 122,
   "id": "0eeb4843",
   "metadata": {},
   "outputs": [
    {
     "name": "stdout",
     "output_type": "stream",
     "text": [
      "5\n",
      "5\n",
      "224\n",
      "224\n"
     ]
    }
   ],
   "source": [
    "for c in cnts_h[0]:\n",
    "    print(c[0][0])"
   ]
  },
  {
   "cell_type": "code",
   "execution_count": 156,
   "id": "43af38db",
   "metadata": {},
   "outputs": [
    {
     "name": "stdout",
     "output_type": "stream",
     "text": [
      "[221, 221, 222, 222, 186, 186, 149, 149, 113, 113, 76, 76, 39, 39, 3, 3, 3, 4, 4]\n"
     ]
    }
   ],
   "source": [
    "flat_list =[]\n",
    "for list in cnts_v:\n",
    "    for sublist in list:\n",
    "        flat_list.append(sublist[0][0])\n",
    "print(flat_list)"
   ]
  },
  {
   "cell_type": "code",
   "execution_count": 149,
   "id": "9afc9c69",
   "metadata": {},
   "outputs": [],
   "source": [
    "f1 = [sublist[0][1] for lists in cnts_h for sublist in lists]\n",
    "h_max = max(f1)\n",
    "h_min = min(f1)\n"
   ]
  },
  {
   "cell_type": "code",
   "execution_count": 153,
   "id": "a99f4846",
   "metadata": {},
   "outputs": [
    {
     "name": "stdout",
     "output_type": "stream",
     "text": [
      "221\n",
      "2\n",
      "31\n"
     ]
    }
   ],
   "source": [
    "print(h_max)\n",
    "print(h_min)\n",
    "h_splits = (h_max+h_min)//len(cnts_h)\n",
    "print(h_splits)"
   ]
  },
  {
   "cell_type": "code",
   "execution_count": 152,
   "id": "13f9308c",
   "metadata": {},
   "outputs": [],
   "source": [
    "show_wait_destroy(\"result\", image)"
   ]
  },
  {
   "cell_type": "code",
   "execution_count": null,
   "id": "495baa6c",
   "metadata": {},
   "outputs": [],
   "source": []
  }
 ],
 "metadata": {
  "kernelspec": {
   "display_name": "Python 3 (ipykernel)",
   "language": "python",
   "name": "python3"
  },
  "language_info": {
   "codemirror_mode": {
    "name": "ipython",
    "version": 3
   },
   "file_extension": ".py",
   "mimetype": "text/x-python",
   "name": "python",
   "nbconvert_exporter": "python",
   "pygments_lexer": "ipython3",
   "version": "3.10.0"
  }
 },
 "nbformat": 4,
 "nbformat_minor": 5
}
