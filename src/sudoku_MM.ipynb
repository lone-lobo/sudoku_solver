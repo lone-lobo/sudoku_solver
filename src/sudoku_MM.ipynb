{
 "cells": [
  {
   "cell_type": "code",
   "execution_count": 1,
   "id": "5a1b38e1",
   "metadata": {},
   "outputs": [
    {
     "name": "stderr",
     "output_type": "stream",
     "text": [
      "Error in sys.excepthook:\n",
      "Traceback (most recent call last):\n",
      "  File \"C:\\Users\\Living Room\\AppData\\Local\\Programs\\Python\\Python310\\lib\\site-packages\\IPython\\core\\interactiveshell.py\", line 1979, in showtraceback\n",
      "    stb = value._render_traceback_()\n",
      "AttributeError: 'ImportError' object has no attribute '_render_traceback_'\n",
      "\n",
      "During handling of the above exception, another exception occurred:\n",
      "\n",
      "Traceback (most recent call last):\n",
      "  File \"C:\\Users\\Living Room\\AppData\\Local\\Programs\\Python\\Python310\\lib\\site-packages\\IPython\\core\\interactiveshell.py\", line 1981, in showtraceback\n",
      "    stb = self.InteractiveTB.structured_traceback(etype,\n",
      "  File \"C:\\Users\\Living Room\\AppData\\Local\\Programs\\Python\\Python310\\lib\\site-packages\\IPython\\core\\ultratb.py\", line 1105, in structured_traceback\n",
      "    return FormattedTB.structured_traceback(\n",
      "  File \"C:\\Users\\Living Room\\AppData\\Local\\Programs\\Python\\Python310\\lib\\site-packages\\IPython\\core\\ultratb.py\", line 999, in structured_traceback\n",
      "    return VerboseTB.structured_traceback(\n",
      "  File \"C:\\Users\\Living Room\\AppData\\Local\\Programs\\Python\\Python310\\lib\\site-packages\\IPython\\core\\ultratb.py\", line 851, in structured_traceback\n",
      "    assert etb is not None\n",
      "AssertionError\n",
      "\n",
      "Original exception was:\n",
      "ImportError: numpy.core.multiarray failed to import\n"
     ]
    },
    {
     "ename": "ImportError",
     "evalue": "numpy.core.multiarray failed to import",
     "output_type": "error",
     "traceback": [
      "\u001b[1;31m---------------------------------------------------------------------------\u001b[0m",
      "\u001b[1;31mImportError\u001b[0m                               Traceback (most recent call last)",
      "Input \u001b[1;32mIn [1]\u001b[0m, in \u001b[0;36m<cell line: 1>\u001b[1;34m()\u001b[0m\n\u001b[1;32m----> 1\u001b[0m \u001b[38;5;28;01mimport\u001b[39;00m \u001b[38;5;21;01mcv2\u001b[39;00m \u001b[38;5;28;01mas\u001b[39;00m \u001b[38;5;21;01mcv\u001b[39;00m\n\u001b[0;32m      2\u001b[0m \u001b[38;5;28;01mimport\u001b[39;00m \u001b[38;5;21;01mnumpy\u001b[39;00m \u001b[38;5;28;01mas\u001b[39;00m \u001b[38;5;21;01mnp\u001b[39;00m\n\u001b[0;32m      3\u001b[0m \u001b[38;5;28mprint\u001b[39m(cv\u001b[38;5;241m.\u001b[39m__version__)\n",
      "File \u001b[1;32m~\\AppData\\Local\\Programs\\Python\\Python310\\lib\\site-packages\\cv2\\__init__.py:8\u001b[0m, in \u001b[0;36m<module>\u001b[1;34m\u001b[0m\n\u001b[0;32m      5\u001b[0m \u001b[38;5;28;01mimport\u001b[39;00m \u001b[38;5;21;01mimportlib\u001b[39;00m\n\u001b[0;32m      6\u001b[0m \u001b[38;5;28;01mimport\u001b[39;00m \u001b[38;5;21;01msys\u001b[39;00m\n\u001b[1;32m----> 8\u001b[0m \u001b[38;5;28;01mfrom\u001b[39;00m \u001b[38;5;21;01m.\u001b[39;00m\u001b[38;5;21;01mcv2\u001b[39;00m \u001b[38;5;28;01mimport\u001b[39;00m \u001b[38;5;241m*\u001b[39m\n\u001b[0;32m      9\u001b[0m \u001b[38;5;28;01mfrom\u001b[39;00m \u001b[38;5;21;01m.\u001b[39;00m\u001b[38;5;21;01mcv2\u001b[39;00m \u001b[38;5;28;01mimport\u001b[39;00m _registerMatType\n\u001b[0;32m     10\u001b[0m \u001b[38;5;28;01mfrom\u001b[39;00m \u001b[38;5;21;01m.\u001b[39;00m \u001b[38;5;28;01mimport\u001b[39;00m mat_wrapper\n",
      "\u001b[1;31mImportError\u001b[0m: numpy.core.multiarray failed to import"
     ]
    }
   ],
   "source": [
    "import cv2 as cv\n",
    "import numpy as np\n",
    "print(cv.__version__)"
   ]
  },
  {
   "cell_type": "code",
   "execution_count": null,
   "id": "1e76a679",
   "metadata": {},
   "outputs": [],
   "source": [
    "def show_wait_destroy(winname, img):\n",
    "    cv.namedWindow(winname, cv.WINDOW_NORMAL)\n",
    "    cv.imshow(winname, img)\n",
    "    cv.resizeWindow(winname, 400, 300)\n",
    "    cv.moveWindow(winname, 380, 200)\n",
    "    cv.waitKey(0)\n",
    "    cv.destroyWindow(winname)"
   ]
  },
  {
   "cell_type": "code",
   "execution_count": null,
   "id": "fe950bdd",
   "metadata": {},
   "outputs": [],
   "source": [
    "image = cv.imread('sudoku_2.png')\n",
    "gray = cv.cvtColor(image, cv.COLOR_BGR2GRAY)\n",
    "show_wait_destroy('img', gray)"
   ]
  },
  {
   "cell_type": "code",
   "execution_count": null,
   "id": "7941e2dc",
   "metadata": {},
   "outputs": [],
   "source": [
    "gray = cv.bitwise_not(gray)\n",
    "bw = cv.adaptiveThreshold(gray, 255, cv.ADAPTIVE_THRESH_MEAN_C, \\\n",
    "                                cv.THRESH_BINARY, 15, -2)\n",
    "show_wait_destroy(\"binary\", bw)"
   ]
  },
  {
   "cell_type": "code",
   "execution_count": null,
   "id": "5cfba84f",
   "metadata": {},
   "outputs": [],
   "source": [
    "horizontal = np.copy(bw)\n",
    "vertical = np.copy(bw)\n",
    "cols = horizontal.shape[1]\n",
    "horizontal_size = cols // 10\n",
    "horizontalStructure = cv.getStructuringElement(cv.MORPH_RECT, (horizontal_size, 1))\n",
    "# Apply morphology operations\n",
    "horizontal = cv.erode(horizontal, horizontalStructure)\n",
    "horizontal = cv.dilate(horizontal, horizontalStructure)\n",
    "# Show extracted horizontal lines\n",
    "show_wait_destroy(\"horizontal\", horizontal)"
   ]
  },
  {
   "cell_type": "code",
   "execution_count": null,
   "id": "cb169fb9",
   "metadata": {},
   "outputs": [],
   "source": [
    "rows = vertical.shape[0]\n",
    "verticalsize = rows // 10\n",
    "# Create structure element for extracting vertical lines through morphology operations\n",
    "verticalStructure = cv.getStructuringElement(cv.MORPH_RECT, (1, verticalsize))\n",
    "# Apply morphology operations\n",
    "vertical = cv.erode(vertical, verticalStructure)\n",
    "vertical = cv.dilate(vertical, verticalStructure)\n",
    "# Show extracted vertical lines\n",
    "show_wait_destroy(\"vertical\", vertical)"
   ]
  },
  {
   "cell_type": "code",
   "execution_count": null,
   "id": "aa765e0b",
   "metadata": {},
   "outputs": [],
   "source": [
    "bitwiseOr = cv.bitwise_or(horizontal,vertical)\n",
    "show_wait_destroy(\"bitwiseOr\", bitwiseOr)\n"
   ]
  },
  {
   "cell_type": "code",
   "execution_count": null,
   "id": "ceb872db",
   "metadata": {},
   "outputs": [],
   "source": [
    "squares = cv.bitwise_not(bitwiseOr)\n",
    "show_wait_destroy(\"squares\", squares)"
   ]
  },
  {
   "cell_type": "code",
   "execution_count": null,
   "id": "606eeed8",
   "metadata": {},
   "outputs": [],
   "source": [
    "merge = cv.bitwise_and(squares, bw)\n",
    "show_wait_destroy(\"merge\", merge)"
   ]
  },
  {
   "cell_type": "code",
   "execution_count": null,
   "id": "e670d6d1",
   "metadata": {},
   "outputs": [],
   "source": [
    "\n",
    "\n"
   ]
  },
  {
   "cell_type": "code",
   "execution_count": null,
   "id": "019ee443",
   "metadata": {},
   "outputs": [],
   "source": []
  },
  {
   "cell_type": "code",
   "execution_count": null,
   "id": "cb5f80d0",
   "metadata": {},
   "outputs": [],
   "source": [
    "import math\n",
    "img = cv.imread(\"sudoku.png\")\n",
    "gray = cv.cvtColor(img, cv.COLOR_BGR2GRAY)\n",
    "show_wait_destroy(\"gray\", gray)\n",
    "edges = cv.Canny(gray, 100,100)\n",
    "show_wait_destroy(\"edges\", edges)\n",
    "lines = cv.HoughLinesP(edges, 1, math.pi/2, 2, None, 10, 1)\n",
    "print(len(lines))\n",
    "for line in lines[0]:\n",
    "    pt1 = (line[0],line[1])\n",
    "    pt2 = (line[2],line[3])\n",
    "    cv.line(img, pt1, pt2, (0,0,255), 3)\n",
    "show_wait_destroy(\"merge\", img)"
   ]
  },
  {
   "cell_type": "code",
   "execution_count": null,
   "id": "5e210e65",
   "metadata": {},
   "outputs": [],
   "source": [
    "import cv2\n",
    "image = cv2.imread('sudoku_2.png')\n",
    "result = image.copy()\n",
    "gray = cv2.cvtColor(image,cv2.COLOR_BGR2GRAY)\n",
    "thresh = cv2.threshold(gray, 0, 255, cv2.THRESH_BINARY_INV + cv2.THRESH_OTSU)[1]\n",
    "show_wait_destroy(\"thresh\", thresh)\n",
    "cols = horizontal.shape[1]\n",
    "horizontal_size = cols // 5\n",
    "# Detect horizontal lines\n",
    "horizontal_kernel = cv2.getStructuringElement(cv2.MORPH_RECT, (horizontal_size,1))\n",
    "detect_horizontal = cv2.morphologyEx(thresh, cv2.MORPH_OPEN, horizontal_kernel, iterations=2)\n",
    "show_wait_destroy(\"detect_horizontal\", detect_horizontal)\n",
    "cnts_h = cv2.findContours(detect_horizontal, cv2.RETR_EXTERNAL, cv2.CHAIN_APPROX_SIMPLE)\n",
    "cnts_h = cnts_h[0] if len(cnts_h) == 2 else cnts_h[1]\n",
    "# print(cnts_h)\n",
    "for c in cnts_h:\n",
    "    cv2.drawContours(result, [c], -1, (36,255,12), 2)\n",
    "    \n",
    "show_wait_destroy(\"result-1\", result)\n",
    "rows = vertical.shape[0]\n",
    "verticalsize = rows // 5\n",
    "# Detect vertical lines\n",
    "vertical_kernel = cv2.getStructuringElement(cv2.MORPH_RECT, (1,verticalsize))\n",
    "detect_vertical = cv2.morphologyEx(thresh, cv2.MORPH_OPEN, vertical_kernel, iterations=2)\n",
    "show_wait_destroy(\"detect_horizontal\", detect_vertical)\n",
    "cnts_v = cv2.findContours(detect_vertical, cv2.RETR_EXTERNAL, cv2.CHAIN_APPROX_SIMPLE)\n",
    "cnts_v = cnts_v[0] if len(cnts_v) == 2 else cnts_v[1]\n",
    "for c in cnts_v:\n",
    "    cv2.drawContours(result, [c], -1, (36,255,12), 2)\n",
    "    \n",
    "show_wait_destroy(\"result-2\", result)"
   ]
  },
  {
   "cell_type": "code",
   "execution_count": null,
   "id": "08fb7fb7",
   "metadata": {},
   "outputs": [],
   "source": [
    "show_wait_destroy(\"result\", result)"
   ]
  },
  {
   "cell_type": "code",
   "execution_count": null,
   "id": "26e9ffcd",
   "metadata": {},
   "outputs": [],
   "source": [
    "print(cnts_h[6])\n",
    "print(cnts_v[6])"
   ]
  },
  {
   "cell_type": "code",
   "execution_count": null,
   "id": "b71b0d5a",
   "metadata": {},
   "outputs": [],
   "source": [
    "out = cv2.rectangle(result, (37,2),(3,38), (0, 0, 255), 2)\n",
    "show_wait_destroy(\"result\", out)"
   ]
  },
  {
   "cell_type": "code",
   "execution_count": null,
   "id": "0eeb4843",
   "metadata": {},
   "outputs": [],
   "source": [
    "for c in cnts_h[0]:\n",
    "    print(c[0][0])"
   ]
  },
  {
   "cell_type": "code",
   "execution_count": null,
   "id": "43af38db",
   "metadata": {},
   "outputs": [],
   "source": [
    "flat_list =[]\n",
    "for list in cnts_v:\n",
    "    for sublist in list:\n",
    "        flat_list.append(sublist[0][0])\n",
    "print(flat_list)"
   ]
  },
  {
   "cell_type": "code",
   "execution_count": null,
   "id": "9afc9c69",
   "metadata": {},
   "outputs": [],
   "source": [
    "f1 = [sublist[0][1] for lists in cnts_h for sublist in lists]\n",
    "h_max = max(f1)\n",
    "h_min = min(f1)\n"
   ]
  },
  {
   "cell_type": "code",
   "execution_count": null,
   "id": "a99f4846",
   "metadata": {},
   "outputs": [],
   "source": [
    "print(h_max)\n",
    "print(h_min)\n",
    "h_splits = (h_max+h_min)//len(cnts_h)\n",
    "print(h_splits)"
   ]
  },
  {
   "cell_type": "code",
   "execution_count": null,
   "id": "13f9308c",
   "metadata": {},
   "outputs": [],
   "source": [
    "show_wait_destroy(\"result\", image)"
   ]
  },
  {
   "cell_type": "code",
   "execution_count": null,
   "id": "495baa6c",
   "metadata": {},
   "outputs": [],
   "source": [
    "for points in flat_list:\n",
    "    if int(points)+1 in flat_list or int(points)+2 in flat_list or points in flat_list or int(points)+3 in flat_list:\n",
    "        flat_list.remove(points)\n",
    "print(flat_list)"
   ]
  },
  {
   "cell_type": "code",
   "execution_count": null,
   "id": "9b8443b7",
   "metadata": {},
   "outputs": [],
   "source": [
    "latest_flat=[]\n",
    "for points in flat_list:\n",
    "    if points not in latest_flat:\n",
    "        latest_flat.append(points)\n",
    "latest_flat=sorted(latest_flat)"
   ]
  },
  {
   "cell_type": "code",
   "execution_count": null,
   "id": "75116d2c",
   "metadata": {},
   "outputs": [],
   "source": [
    "print(latest_flat)"
   ]
  },
  {
   "cell_type": "code",
   "execution_count": null,
   "id": "4dad593a",
   "metadata": {},
   "outputs": [],
   "source": [
    "remove= []\n",
    "for pointX in range(len(latest_flat)):\n",
    "    for pointY in range(0,len(latest_flat)-1):\n",
    "        if int(latest_flat[pointX])-int(latest_flat[pointY]) <=5 and int(latest_flat[pointX])-int(latest_flat[pointY]) >= 0:\n",
    "            remove.append(latest_flat[pointY])\n",
    "print(remove)"
   ]
  },
  {
   "cell_type": "code",
   "execution_count": null,
   "id": "90915289",
   "metadata": {},
   "outputs": [],
   "source": [
    "remove= []\n",
    "for x in latest_flat:\n",
    "    y_list = [*range(x,x+10)]\n",
    "    for y in y_list:\n",
    "        if ( y in  latest_flat):\n",
    "            remove.append(y)"
   ]
  },
  {
   "cell_type": "code",
   "execution_count": null,
   "id": "3a06e522",
   "metadata": {},
   "outputs": [],
   "source": [
    "print(remove)"
   ]
  },
  {
   "cell_type": "code",
   "execution_count": null,
   "id": "eec1b60b",
   "metadata": {},
   "outputs": [],
   "source": [
    "def rem(latest_flat,current):\n",
    "    latest_flat = latest_flat[:max(current - 2, 0)] + latest_flat[current:]\n",
    "    print(latest_flat)\n",
    "    return latest_flat\n",
    "\n",
    "for x in latest_flat:\n",
    "    rem(latest_flat,x)\n",
    "#     print(x)\n",
    "print(latest_flat)"
   ]
  },
  {
   "cell_type": "code",
   "execution_count": null,
   "id": "596416dd",
   "metadata": {},
   "outputs": [],
   "source": [
    "for x  in latest_flat:\n",
    "    if (int(x)+1)  in latest_flat:\n",
    "        latest_flat.remove(int(x)+1)\n",
    "    if (int(x)+2)  in latest_flat:\n",
    "        latest_flat.remove(int(x)+2)\n",
    "    if (int(x)+3)  in latest_flat:\n",
    "        latest_flat.remove(int(x)+3)\n",
    "print(latest_flat)"
   ]
  },
  {
   "cell_type": "code",
   "execution_count": null,
   "id": "3a241c9a",
   "metadata": {},
   "outputs": [],
   "source": [
    "for i in range(len(latest_flat)-1):\n",
    "    x = zip(latest_flat[i],latest_flat[i+1])\n",
    "print(x)"
   ]
  },
  {
   "cell_type": "code",
   "execution_count": null,
   "id": "87b50abf",
   "metadata": {},
   "outputs": [],
   "source": [
    "i=0\n",
    "for x_v , y_v in zip(latest_flat, latest_flat[1:]):\n",
    "    for x_h , y_h in zip(latest_flat, latest_flat[1:]):\n",
    "#         print(x_v,y_v,x_h,y_h)\n",
    "        i+=1\n",
    "#         x_v = 4\n",
    "#         y_v = 39\n",
    "        cropped_image = image[x_v:y_v ,x_h:y_h]\n",
    "        gray = cv2.cvtColor(cropped_image,cv2.COLOR_BGR2GRAY)\n",
    "        thresh = cv2.threshold(gray, 0, 255, cv2.THRESH_BINARY_INV + cv2.THRESH_OTSU)[1]\n",
    "        show_wait_destroy(\"sample\",cropped_image)\n",
    "        show_wait_destroy(\"thresh\", thresh)\n",
    "        cv2.imwrite(\"cropped_images\\image_\"+str(i)+'.png',thresh)\n",
    "        "
   ]
  },
  {
   "cell_type": "code",
   "execution_count": null,
   "id": "bedd1d60",
   "metadata": {},
   "outputs": [],
   "source": [
    "\n"
   ]
  },
  {
   "cell_type": "code",
   "execution_count": null,
   "id": "eaf96c05",
   "metadata": {},
   "outputs": [],
   "source": []
  },
  {
   "cell_type": "markdown",
   "id": "3819a876",
   "metadata": {},
   "source": [
    "# CNN for image inference\n"
   ]
  },
  {
   "cell_type": "code",
   "execution_count": null,
   "id": "515c2633",
   "metadata": {},
   "outputs": [],
   "source": [
    "import os\n",
    "import csv\n",
    "import datetime\n",
    "import numpy as np\n",
    "import pandas as pd\n",
    "import tensorflow as tf\n",
    "import keras\n",
    "import matplotlib.pyplot as plt\n",
    "from numpy import newaxis\n",
    "from PIL import Image\n",
    "from tensorflow.keras.datasets import mnist\n",
    "from keras.utils.np_utils import to_categorical\n",
    "from sklearn.model_selection import train_test_split\n",
    "import tensorflow.keras.backend as K"
   ]
  },
  {
   "cell_type": "code",
   "execution_count": null,
   "id": "85d26dc6",
   "metadata": {},
   "outputs": [],
   "source": [
    "print(\"tensorflow version is \"+ str(tf.__version__))\n",
    "(X_train, Y_train), (X_test, Y_test) = mnist.load_data()\n",
    "print(X_train.shape)\n",
    "for i in range(25):\n",
    "  plt.subplot(5,5,i+1)\n",
    "  plt.xticks([])\n",
    "  plt.yticks([])\n",
    "  plt.grid(False)\n",
    "  plt.imshow(X_train[i], cmap='gray')\n",
    "  plt.xlabel(Y_train[i])\n",
    "  plt.gray()\n",
    "plt.show()"
   ]
  },
  {
   "cell_type": "code",
   "execution_count": null,
   "id": "33ce3577",
   "metadata": {},
   "outputs": [],
   "source": [
    "unique_train,frequency_train=np.unique(Y_train,return_counts=True)\n",
    "total=np.sum(frequency_train)\n",
    "print(\"unique labels: {} \\nFrequency of individual labels: {} \\nTotal sum is: {}\".format(unique_train,frequency_train,total))\n",
    "X_train=X_train/255\n",
    "X_test=X_test/255\n",
    "print(X_train.shape)\n",
    "np.reshape(X_train,(-1,28,28))\n",
    "X_train=X_train[:,:,:,newaxis]\n",
    "np.reshape(X_test,(-1,28,28,1))\n",
    "X_test=X_test[:,:,:,newaxis]\n",
    "print(\"X_train shape: \",X_train.shape)\n",
    "print(\"X_test shape: \",X_test.shape)"
   ]
  },
  {
   "cell_type": "code",
   "execution_count": null,
   "id": "9d6cb946",
   "metadata": {},
   "outputs": [],
   "source": [
    "Y_train=to_categorical(Y_train,num_classes=10)\n",
    "Y_test=to_categorical(Y_test,num_classes=10)\n",
    "print(Y_test)\n",
    "X_train,X_val,Y_train,Y_val=train_test_split(X_train,Y_train,test_size=0.1)\n",
    "np.reshape(X_val,(-1,28,28))\n",
    "print(\"x_train: \",X_train.shape)\n",
    "print(\"x_test: \",X_val.shape)\n",
    "print(\"y_train: \",Y_train.shape)\n",
    "print(\"y_test: \",Y_val.shape)"
   ]
  },
  {
   "cell_type": "code",
   "execution_count": null,
   "id": "6ca6d559",
   "metadata": {},
   "outputs": [],
   "source": [
    "model = keras.Sequential()\n",
    "model.add(keras.layers.Conv2D(filters=32,kernel_size=(3,3),padding='Same',activation='relu',input_shape=(28,28,1)))\n",
    "model.add(keras.layers.MaxPool2D(pool_size=(2,2)))\n",
    "model.add(keras.layers.Dropout(0.25))\n",
    "\n",
    "model.add(keras.layers.Conv2D(filters=32,kernel_size=(3,3),padding='Same',activation='relu'))\n",
    "model.add(keras.layers.MaxPool2D(pool_size=(2,2),strides=(2,2)))\n",
    "model.add(keras.layers.Dropout(0.25))\n",
    "\n",
    "model.add(keras.layers.Conv2D(filters=64,kernel_size=(3,3),padding=\"Same\",activation=\"relu\"))\n",
    "model.add(keras.layers.MaxPool2D(pool_size=(2,2),strides=(2,2)))\n",
    "model.add(keras.layers.Dropout(0.25))\n",
    "\n",
    "model.add(keras.layers.Flatten())\n",
    "model.add(keras.layers.Dense(256, activation = \"relu\"))\n",
    "model.add(keras.layers.Dropout(0.5))\n",
    "model.add(keras.layers.Dense(10, activation = \"softmax\"))\n",
    "model.summary()"
   ]
  },
  {
   "cell_type": "code",
   "execution_count": null,
   "id": "53500428",
   "metadata": {},
   "outputs": [],
   "source": [
    "model.compile(optimizer=\"rmsprop\",loss=\"categorical_crossentropy\",metrics=[\"accuracy\",\"AUC\"])\n",
    "batch_size=32\n",
    "epochs=20\n",
    "class StoreModelHistory(keras.callbacks.Callback):\n",
    "\n",
    "  def on_epoch_end(self,batch,logs=None):\n",
    "    if ('lr' not in logs.keys()):\n",
    "      logs.setdefault('lr',0)\n",
    "      logs['lr'] = K.get_value(self.model.optimizer.lr)\n",
    "\n",
    "    if not ('model_history.csv' in os.listdir(os.getcwd())):\n",
    "      with open('model_history.csv','a') as f:\n",
    "        y=csv.DictWriter(f,logs.keys())\n",
    "        y.writeheader()\n",
    "\n",
    "    with open('model_history.csv','a') as f:\n",
    "      y=csv.DictWriter(f,logs.keys())\n",
    "      y.writerow(logs)\n",
    "%load_ext tensorboard"
   ]
  },
  {
   "cell_type": "code",
   "execution_count": null,
   "id": "23d56a7f",
   "metadata": {},
   "outputs": [],
   "source": [
    "log_dir = \"logs/fit/\" + datetime.datetime.now().strftime(\"%Y%m%d-%H%M%S\")\n",
    "tensorboard_callback = tf.keras.callbacks.TensorBoard(log_dir=log_dir, histogram_freq=1)\n",
    "hist= model.fit(X_train,Y_train,batch_size=batch_size,epochs=epochs,validation_data=(X_val,Y_val),steps_per_epoch=1600//batch_size,callbacks=[StoreModelHistory(),tensorboard_callback])\n",
    "print(hist.history)\n",
    "%tensorboard --logdir logs/fit"
   ]
  },
  {
   "cell_type": "code",
   "execution_count": null,
   "id": "e24e19a6",
   "metadata": {},
   "outputs": [],
   "source": [
    "sudoku_list=[]\n",
    "row = []\n",
    "for x in range(1,37):\n",
    "    inter_path = r'C:\\Users\\Living Room\\cropped_images\\image_'\n",
    "    img_path= inter_path+str(x)+'.png'\n",
    "    # print(img_path)\n",
    "    img = tf.keras.utils.load_img(\n",
    "        img_path, target_size=(28,28))\n",
    "    img = tf.image.rgb_to_grayscale(img)\n",
    "    #img_array = tf.keras.utils.img_to_array(img)\n",
    "    img_array = tf.expand_dims(img, 0) \n",
    "\n",
    "    predictions = model.predict(img_array)\n",
    "    score = tf.nn.softmax(predictions[0])\n",
    "    x = np.argmax(predictions, axis=None, out=None)\n",
    "#     print(x)\n",
    "    row.append(x)\n",
    "    if (len(row) == len(latest_flat)-1):\n",
    "        sudoku_list.append(row)\n",
    "        row = []\n",
    "    \n",
    "\n",
    "print(sudoku_list)"
   ]
  },
  {
   "cell_type": "code",
   "execution_count": null,
   "id": "0603c605",
   "metadata": {},
   "outputs": [],
   "source": [
    "def check_for_black_image(img):\n",
    "    if sum(img.convert(\"L\").getextrema()) in (0, 2):\n",
    "        return True\n",
    "    else : \n",
    "        return False\n",
    "row = []\n",
    "sudoku_list=[]\n",
    "for x in range(1,37):\n",
    "    img_path = 'processed_images\\image_'+str(x)+'.png'\n",
    "    im = Image.open(img_path)\n",
    "    if check_for_black_image(im):\n",
    "        row.append(0)\n",
    "    else : \n",
    "        img = tf.keras.utils.load_img(\n",
    "        img_path, target_size=(28,28))\n",
    "        img = tf.image.rgb_to_grayscale(img)\n",
    "        img_array = tf.expand_dims(img, 0) \n",
    "\n",
    "        predictions = model.predict(img_array)\n",
    "        score = tf.nn.softmax(predictions[0])\n",
    "    #     print(score)\n",
    "        x = np.argmax(predictions, axis=None, out=None)\n",
    "        print(x)\n",
    "        row.append(x)\n",
    "        if (len(row) == len(latest_flat)-1):\n",
    "            sudoku_list.append(row)\n",
    "            row = []\n",
    "        \n",
    "print(row)"
   ]
  },
  {
   "cell_type": "code",
   "execution_count": null,
   "id": "d1d0c0e2",
   "metadata": {},
   "outputs": [],
   "source": [
    "img_path=r'C:\\Users\\Living Room\\cropped_images\\image_2.png'\n",
    "img = tf.keras.utils.load_img(\n",
    "    img_path, target_size=(28,28))\n",
    "img = tf.image.rgb_to_grayscale(img)\n",
    "#img_array = tf.keras.utils.img_to_array(img)\n",
    "img_array = tf.expand_dims(img, 0) # Create a batch\n",
    "predictions = model.predict(img_array)\n",
    "score = tf.nn.softmax(predictions[0])\n",
    "x = np.argmax(predictions, axis=None, out=None)\n",
    "print(x)        "
   ]
  },
  {
   "cell_type": "code",
   "execution_count": null,
   "id": "5e820c16",
   "metadata": {},
   "outputs": [],
   "source": []
  },
  {
   "cell_type": "markdown",
   "id": "2b9e6b64",
   "metadata": {},
   "source": [
    "### Function to solve the sudoku"
   ]
  },
  {
   "cell_type": "code",
   "execution_count": null,
   "id": "add36157",
   "metadata": {},
   "outputs": [],
   "source": []
  }
 ],
 "metadata": {
  "kernelspec": {
   "display_name": "Python 3 (ipykernel)",
   "language": "python",
   "name": "python3"
  },
  "language_info": {
   "codemirror_mode": {
    "name": "ipython",
    "version": 3
   },
   "file_extension": ".py",
   "mimetype": "text/x-python",
   "name": "python",
   "nbconvert_exporter": "python",
   "pygments_lexer": "ipython3",
   "version": "3.10.2"
  }
 },
 "nbformat": 4,
 "nbformat_minor": 5
}
