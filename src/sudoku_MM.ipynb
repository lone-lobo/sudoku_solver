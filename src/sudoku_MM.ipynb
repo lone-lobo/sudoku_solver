{
 "cells": [
  {
   "cell_type": "code",
   "execution_count": 1,
   "id": "5a1b38e1",
   "metadata": {},
   "outputs": [
    {
     "name": "stdout",
     "output_type": "stream",
     "text": [
      "4.5.5\n"
     ]
    }
   ],
   "source": [
    "import cv2 as cv\n",
    "import numpy as np\n",
    "print(cv.__version__)"
   ]
  },
  {
   "cell_type": "code",
   "execution_count": 2,
   "id": "1e76a679",
   "metadata": {},
   "outputs": [],
   "source": [
    "def show_wait_destroy(winname, img):\n",
    "    cv.namedWindow(winname, cv.WINDOW_NORMAL)\n",
    "    cv.imshow(winname, img)\n",
    "    cv.resizeWindow(winname, 400, 300)\n",
    "    cv.moveWindow(winname, 380, 200)\n",
    "    cv.waitKey(0)\n",
    "    cv.destroyWindow(winname)"
   ]
  },
  {
   "cell_type": "code",
   "execution_count": 3,
   "id": "fe950bdd",
   "metadata": {},
   "outputs": [],
   "source": [
    "image = cv.imread('sudoku_3.jpg')\n",
    "gray = cv.cvtColor(image, cv.COLOR_BGR2GRAY)\n",
    "show_wait_destroy('img', gray)"
   ]
  },
  {
   "cell_type": "code",
   "execution_count": 4,
   "id": "7941e2dc",
   "metadata": {},
   "outputs": [],
   "source": [
    "gray = cv.bitwise_not(gray)\n",
    "bw = cv.adaptiveThreshold(gray, 255, cv.ADAPTIVE_THRESH_MEAN_C, \\\n",
    "                                cv.THRESH_BINARY, 15, -2)\n",
    "show_wait_destroy(\"binary\", bw)"
   ]
  },
  {
   "cell_type": "code",
   "execution_count": 5,
   "id": "5cfba84f",
   "metadata": {},
   "outputs": [],
   "source": [
    "horizontal = np.copy(bw)\n",
    "vertical = np.copy(bw)\n",
    "cols = horizontal.shape[1]\n",
    "horizontal_size = cols // 10\n",
    "horizontalStructure = cv.getStructuringElement(cv.MORPH_RECT, (horizontal_size, 1))\n",
    "# Apply morphology operations\n",
    "horizontal = cv.erode(horizontal, horizontalStructure)\n",
    "horizontal = cv.dilate(horizontal, horizontalStructure)\n",
    "# Show extracted horizontal lines\n",
    "show_wait_destroy(\"horizontal\", horizontal)"
   ]
  },
  {
   "cell_type": "code",
   "execution_count": 6,
   "id": "cb169fb9",
   "metadata": {},
   "outputs": [],
   "source": [
    "rows = vertical.shape[0]\n",
    "verticalsize = rows // 10\n",
    "# Create structure element for extracting vertical lines through morphology operations\n",
    "verticalStructure = cv.getStructuringElement(cv.MORPH_RECT, (1, verticalsize))\n",
    "# Apply morphology operations\n",
    "vertical = cv.erode(vertical, verticalStructure)\n",
    "vertical = cv.dilate(vertical, verticalStructure)\n",
    "# Show extracted vertical lines\n",
    "show_wait_destroy(\"vertical\", vertical)"
   ]
  },
  {
   "cell_type": "code",
   "execution_count": 8,
   "id": "aa765e0b",
   "metadata": {},
   "outputs": [],
   "source": [
    "bitwiseOr = cv.bitwise_or(horizontal,vertical)\n",
    "show_wait_destroy(\"bitwiseOr\", bitwiseOr)\n"
   ]
  },
  {
   "cell_type": "code",
   "execution_count": 9,
   "id": "ceb872db",
   "metadata": {},
   "outputs": [],
   "source": [
    "squares = cv.bitwise_not(bitwiseOr)\n",
    "show_wait_destroy(\"squares\", squares)"
   ]
  },
  {
   "cell_type": "code",
   "execution_count": 10,
   "id": "606eeed8",
   "metadata": {},
   "outputs": [],
   "source": [
    "merge = cv.bitwise_and(squares, bw)\n",
    "show_wait_destroy(\"merge\", merge)"
   ]
  },
  {
   "cell_type": "code",
   "execution_count": null,
   "id": "e670d6d1",
   "metadata": {},
   "outputs": [],
   "source": [
    "\n",
    "\n"
   ]
  },
  {
   "cell_type": "code",
   "execution_count": null,
   "id": "019ee443",
   "metadata": {},
   "outputs": [],
   "source": []
  },
  {
   "cell_type": "code",
   "execution_count": 11,
   "id": "cb5f80d0",
   "metadata": {},
   "outputs": [
    {
     "name": "stdout",
     "output_type": "stream",
     "text": [
      "456\n"
     ]
    }
   ],
   "source": [
    "import math\n",
    "img = cv.imread(\"sudoku.png\")\n",
    "gray = cv.cvtColor(img, cv.COLOR_BGR2GRAY)\n",
    "show_wait_destroy(\"gray\", gray)\n",
    "edges = cv.Canny(gray, 100,100)\n",
    "show_wait_destroy(\"edges\", edges)\n",
    "lines = cv.HoughLinesP(edges, 1, math.pi/2, 2, None, 10, 1)\n",
    "print(len(lines))\n",
    "for line in lines[0]:\n",
    "    pt1 = (line[0],line[1])\n",
    "    pt2 = (line[2],line[3])\n",
    "    cv.line(img, pt1, pt2, (0,0,255), 3)\n",
    "show_wait_destroy(\"merge\", img)"
   ]
  },
  {
   "cell_type": "code",
   "execution_count": 81,
   "id": "5e210e65",
   "metadata": {},
   "outputs": [],
   "source": [
    "import cv2\n",
    "image = cv2.imread('sudoku_2.png')\n",
    "result = image.copy()\n",
    "gray = cv2.cvtColor(image,cv2.COLOR_BGR2GRAY)\n",
    "thresh = cv2.threshold(gray, 0, 255, cv2.THRESH_BINARY_INV + cv2.THRESH_OTSU)[1]\n",
    "show_wait_destroy(\"thresh\", thresh)\n",
    "cols = horizontal.shape[1]\n",
    "horizontal_size = cols // 5\n",
    "# Detect horizontal lines\n",
    "horizontal_kernel = cv2.getStructuringElement(cv2.MORPH_RECT, (horizontal_size,1))\n",
    "detect_horizontal = cv2.morphologyEx(thresh, cv2.MORPH_OPEN, horizontal_kernel, iterations=2)\n",
    "show_wait_destroy(\"detect_horizontal\", detect_horizontal)\n",
    "cnts_h = cv2.findContours(detect_horizontal, cv2.RETR_EXTERNAL, cv2.CHAIN_APPROX_SIMPLE)\n",
    "cnts_h = cnts_h[0] if len(cnts_h) == 2 else cnts_h[1]\n",
    "# print(cnts_h)\n",
    "for c in cnts_h:\n",
    "    cv2.drawContours(result, [c], -1, (36,255,12), 2)\n",
    "    \n",
    "show_wait_destroy(\"result-1\", result)\n",
    "rows = vertical.shape[0]\n",
    "verticalsize = rows // 5\n",
    "# Detect vertical lines\n",
    "vertical_kernel = cv2.getStructuringElement(cv2.MORPH_RECT, (1,verticalsize))\n",
    "detect_vertical = cv2.morphologyEx(thresh, cv2.MORPH_OPEN, vertical_kernel, iterations=2)\n",
    "show_wait_destroy(\"detect_horizontal\", detect_vertical)\n",
    "cnts_v = cv2.findContours(detect_vertical, cv2.RETR_EXTERNAL, cv2.CHAIN_APPROX_SIMPLE)\n",
    "cnts_v = cnts_v[0] if len(cnts_v) == 2 else cnts_v[1]\n",
    "for c in cnts_v:\n",
    "    cv2.drawContours(result, [c], -1, (36,255,12), 2)\n",
    "    \n",
    "show_wait_destroy(\"result-2\", result)"
   ]
  },
  {
   "cell_type": "code",
   "execution_count": 16,
   "id": "08fb7fb7",
   "metadata": {},
   "outputs": [],
   "source": [
    "show_wait_destroy(\"result\", result)"
   ]
  },
  {
   "cell_type": "code",
   "execution_count": 111,
   "id": "26e9ffcd",
   "metadata": {},
   "outputs": [
    {
     "name": "stdout",
     "output_type": "stream",
     "text": [
      "[[[  5   2]]\n",
      "\n",
      " [[  5   3]]\n",
      "\n",
      " [[224   3]]\n",
      "\n",
      " [[224   2]]]\n",
      "[[[  3   2]]\n",
      "\n",
      " [[  3 221]]\n",
      "\n",
      " [[  3 113]]\n",
      "\n",
      " [[  4 112]]\n",
      "\n",
      " [[  4   2]]]\n"
     ]
    }
   ],
   "source": [
    "print(cnts_h[6])\n",
    "print(cnts_v[6])"
   ]
  },
  {
   "cell_type": "code",
   "execution_count": 118,
   "id": "b71b0d5a",
   "metadata": {},
   "outputs": [],
   "source": [
    "out = cv2.rectangle(result, (37,2),(3,38), (0, 0, 255), 2)\n",
    "show_wait_destroy(\"result\", out)"
   ]
  },
  {
   "cell_type": "code",
   "execution_count": 122,
   "id": "0eeb4843",
   "metadata": {},
   "outputs": [
    {
     "name": "stdout",
     "output_type": "stream",
     "text": [
      "5\n",
      "5\n",
      "224\n",
      "224\n"
     ]
    }
   ],
   "source": [
    "for c in cnts_h[0]:\n",
    "    print(c[0][0])"
   ]
  },
  {
   "cell_type": "code",
   "execution_count": 131,
   "id": "43af38db",
   "metadata": {},
   "outputs": [
    {
     "name": "stdout",
     "output_type": "stream",
     "text": [
      "[221, 221, 222, 222, 186, 186, 149, 149, 113, 113, 76, 76, 39, 39, 3, 3, 3, 4, 4]\n"
     ]
    }
   ],
   "source": [
    "flat_list =[]\n",
    "for list in cnts_v:\n",
    "    for sublist in list:\n",
    "        flat_list.append(sublist[0][0])\n",
    "print(flat_list)"
   ]
  },
  {
   "cell_type": "code",
   "execution_count": 18,
   "id": "9afc9c69",
   "metadata": {},
   "outputs": [],
   "source": [
    "f1 = [sublist[0][1] for lists in cnts_h for sublist in lists]\n",
    "h_max = max(f1)\n",
    "h_min = min(f1)\n"
   ]
  },
  {
   "cell_type": "code",
   "execution_count": 19,
   "id": "a99f4846",
   "metadata": {},
   "outputs": [
    {
     "name": "stdout",
     "output_type": "stream",
     "text": [
      "1199\n",
      "0\n",
      "119\n"
     ]
    }
   ],
   "source": [
    "print(h_max)\n",
    "print(h_min)\n",
    "h_splits = (h_max+h_min)//len(cnts_h)\n",
    "print(h_splits)"
   ]
  },
  {
   "cell_type": "code",
   "execution_count": 20,
   "id": "13f9308c",
   "metadata": {},
   "outputs": [],
   "source": [
    "show_wait_destroy(\"result\", image)"
   ]
  },
  {
   "cell_type": "code",
   "execution_count": 87,
   "id": "495baa6c",
   "metadata": {},
   "outputs": [
    {
     "name": "stdout",
     "output_type": "stream",
     "text": [
      "[221, 222, 186, 149, 113, 76, 39, 3, 4]\n"
     ]
    }
   ],
   "source": [
    "for points in flat_list:\n",
    "    if int(points)+1 in flat_list or int(points)+2 in flat_list or points in flat_list or int(points)+3 in flat_list:\n",
    "        flat_list.remove(points)\n",
    "print(flat_list)"
   ]
  },
  {
   "cell_type": "code",
   "execution_count": 132,
   "id": "c7293f70",
   "metadata": {},
   "outputs": [],
   "source": [
    "latest_flat=[]\n",
    "for points in flat_list:\n",
    "    if points not in latest_flat:\n",
    "        latest_flat.append(points)\n",
    "latest_flat=sorted(latest_flat)"
   ]
  },
  {
   "cell_type": "code",
   "execution_count": 133,
   "id": "b129e23a",
   "metadata": {},
   "outputs": [
    {
     "name": "stdout",
     "output_type": "stream",
     "text": [
      "[3, 4, 39, 76, 113, 149, 186, 221, 222]\n"
     ]
    }
   ],
   "source": [
    "print(latest_flat)"
   ]
  },
  {
   "cell_type": "code",
   "execution_count": 106,
   "id": "6663a62e",
   "metadata": {},
   "outputs": [
    {
     "name": "stdout",
     "output_type": "stream",
     "text": [
      "[221, 221, 222, 186, 149, 113, 76, 39, 3, 3]\n"
     ]
    }
   ],
   "source": [
    "remove= []\n",
    "for pointX in range(len(latest_flat)):\n",
    "    for pointY in range(0,len(latest_flat)-1):\n",
    "        if int(latest_flat[pointX])-int(latest_flat[pointY]) <=5 and int(latest_flat[pointX])-int(latest_flat[pointY]) >= 0:\n",
    "            remove.append(latest_flat[pointY])\n",
    "print(remove)"
   ]
  },
  {
   "cell_type": "code",
   "execution_count": 120,
   "id": "bca7207d",
   "metadata": {},
   "outputs": [],
   "source": [
    "remove= []\n",
    "for x in latest_flat:\n",
    "    y_list = [*range(x,x+10)]\n",
    "    for y in y_list:\n",
    "        if ( y in  latest_flat):\n",
    "            remove.append(y)"
   ]
  },
  {
   "cell_type": "code",
   "execution_count": 121,
   "id": "58e216df",
   "metadata": {},
   "outputs": [
    {
     "name": "stdout",
     "output_type": "stream",
     "text": [
      "[222, 186, 149, 113, 76, 39, 3, 4, 4]\n"
     ]
    }
   ],
   "source": [
    "print(remove)"
   ]
  },
  {
   "cell_type": "code",
   "execution_count": 129,
   "id": "77dadc7e",
   "metadata": {},
   "outputs": [
    {
     "name": "stdout",
     "output_type": "stream",
     "text": [
      "[3, 76, 113, 149, 186, 221, 222]\n",
      "[3, 4, 113, 149, 186, 221, 222]\n",
      "[3, 4, 39, 76, 113, 149, 186, 221, 222]\n",
      "[3, 4, 39, 76, 113, 149, 186, 221, 222]\n",
      "[3, 4, 39, 76, 113, 149, 186, 221, 222]\n",
      "[3, 4, 39, 76, 113, 149, 186, 221, 222]\n",
      "[3, 4, 39, 76, 113, 149, 186, 221, 222]\n",
      "[3, 4, 39, 76, 113, 149, 186, 221, 222]\n",
      "[3, 4, 39, 76, 113, 149, 186, 221, 222]\n",
      "[3, 4, 39, 76, 113, 149, 186, 221, 222]\n"
     ]
    }
   ],
   "source": [
    "def rem(latest_flat,current):\n",
    "    latest_flat = latest_flat[:max(current - 2, 0)] + latest_flat[current:]\n",
    "    print(latest_flat)\n",
    "    return latest_flat\n",
    "\n",
    "for x in latest_flat:\n",
    "    rem(latest_flat,x)\n",
    "#     print(x)\n",
    "print(latest_flat)"
   ]
  },
  {
   "cell_type": "code",
   "execution_count": 136,
   "id": "a9419cbd",
   "metadata": {},
   "outputs": [
    {
     "name": "stdout",
     "output_type": "stream",
     "text": [
      "[4, 39, 76, 113, 149, 186, 221]\n"
     ]
    }
   ],
   "source": [
    "for x  in latest_flat:\n",
    "    if (int(x)+1)  in latest_flat:\n",
    "        latest_flat.remove(int(x)+1)\n",
    "    if (int(x)+2)  in latest_flat:\n",
    "        latest_flat.remove(int(x)+2)\n",
    "    if (int(x)+3)  in latest_flat:\n",
    "        latest_flat.remove(int(x)+3)\n",
    "print(latest_flat)"
   ]
  },
  {
   "cell_type": "code",
   "execution_count": 138,
   "id": "121c3eb1",
   "metadata": {},
   "outputs": [
    {
     "ename": "TypeError",
     "evalue": "'numpy.intc' object is not iterable",
     "output_type": "error",
     "traceback": [
      "\u001b[1;31m---------------------------------------------------------------------------\u001b[0m",
      "\u001b[1;31mTypeError\u001b[0m                                 Traceback (most recent call last)",
      "Input \u001b[1;32mIn [138]\u001b[0m, in \u001b[0;36m<cell line: 1>\u001b[1;34m()\u001b[0m\n\u001b[0;32m      1\u001b[0m \u001b[38;5;28;01mfor\u001b[39;00m i \u001b[38;5;129;01min\u001b[39;00m \u001b[38;5;28mrange\u001b[39m(\u001b[38;5;28mlen\u001b[39m(latest_flat)\u001b[38;5;241m-\u001b[39m\u001b[38;5;241m1\u001b[39m):\n\u001b[1;32m----> 2\u001b[0m     x \u001b[38;5;241m=\u001b[39m \u001b[38;5;28;43mzip\u001b[39;49m\u001b[43m(\u001b[49m\u001b[43mlatest_flat\u001b[49m\u001b[43m[\u001b[49m\u001b[43mi\u001b[49m\u001b[43m]\u001b[49m\u001b[43m,\u001b[49m\u001b[43mlatest_flat\u001b[49m\u001b[43m[\u001b[49m\u001b[43mi\u001b[49m\u001b[38;5;241;43m+\u001b[39;49m\u001b[38;5;241;43m1\u001b[39;49m\u001b[43m]\u001b[49m\u001b[43m)\u001b[49m\n\u001b[0;32m      3\u001b[0m \u001b[38;5;28mprint\u001b[39m(x)\n",
      "\u001b[1;31mTypeError\u001b[0m: 'numpy.intc' object is not iterable"
     ]
    }
   ],
   "source": [
    "for i in range(len(latest_flat)-1):\n",
    "    x = zip(latest_flat[i],latest_flat[i+1])\n",
    "print(x)"
   ]
  },
  {
   "cell_type": "code",
   "execution_count": 164,
   "id": "131ca05e",
   "metadata": {},
   "outputs": [
    {
     "name": "stdout",
     "output_type": "stream",
     "text": [
      "4 39 4 39\n",
      "4 39 39 76\n",
      "4 39 76 113\n",
      "4 39 113 149\n",
      "4 39 149 186\n",
      "4 39 186 221\n",
      "39 76 4 39\n",
      "39 76 39 76\n",
      "39 76 76 113\n",
      "39 76 113 149\n",
      "39 76 149 186\n",
      "39 76 186 221\n",
      "76 113 4 39\n",
      "76 113 39 76\n",
      "76 113 76 113\n",
      "76 113 113 149\n",
      "76 113 149 186\n",
      "76 113 186 221\n",
      "113 149 4 39\n",
      "113 149 39 76\n",
      "113 149 76 113\n",
      "113 149 113 149\n",
      "113 149 149 186\n",
      "113 149 186 221\n",
      "149 186 4 39\n",
      "149 186 39 76\n",
      "149 186 76 113\n",
      "149 186 113 149\n",
      "149 186 149 186\n",
      "149 186 186 221\n",
      "186 221 4 39\n",
      "186 221 39 76\n",
      "186 221 76 113\n",
      "186 221 113 149\n",
      "186 221 149 186\n",
      "186 221 186 221\n"
     ]
    }
   ],
   "source": [
    "for x_v , y_v in zip(latest_flat, latest_flat[1:]):\n",
    "    for x_h , y_h in zip(latest_flat, latest_flat[1:]):\n",
    "        print(x_v,y_v,x_h,y_h)\n",
    "#         x_v = 4\n",
    "#         y_v = 39\n",
    "        cropped_image = image[x_v:y_v ,x_h:y_h]\n",
    "        gray = cv2.cvtColor(cropped_image,cv2.COLOR_BGR2GRAY)\n",
    "        thresh = cv2.threshold(gray, 0, 255, cv2.THRESH_BINARY_INV + cv2.THRESH_OTSU)[1]\n",
    "        show_wait_destroy(\"sample\",cropped_image)\n",
    "        show_wait_destroy(\"thresh\", thresh)\n",
    "        \n"
   ]
  },
  {
   "cell_type": "code",
   "execution_count": null,
   "id": "d961f58c",
   "metadata": {},
   "outputs": [],
   "source": []
  },
  {
   "cell_type": "code",
   "execution_count": null,
   "id": "144d0593",
   "metadata": {},
   "outputs": [],
   "source": []
  },
  {
   "cell_type": "markdown",
   "id": "659d0f80",
   "metadata": {},
   "source": [
    "# "
   ]
  }
 ],
 "metadata": {
  "kernelspec": {
   "display_name": "Python 3 (ipykernel)",
   "language": "python",
   "name": "python3"
  },
  "language_info": {
   "codemirror_mode": {
    "name": "ipython",
    "version": 3
   },
   "file_extension": ".py",
   "mimetype": "text/x-python",
   "name": "python",
   "nbconvert_exporter": "python",
   "pygments_lexer": "ipython3",
   "version": "3.10.2"
  }
 },
 "nbformat": 4,
 "nbformat_minor": 5
}
