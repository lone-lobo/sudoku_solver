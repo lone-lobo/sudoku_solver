{
 "cells": [
  {
   "cell_type": "code",
   "execution_count": 9,
   "id": "5a1b38e1",
   "metadata": {},
   "outputs": [
    {
     "name": "stdout",
     "output_type": "stream",
     "text": [
      "4.5.5\n"
     ]
    }
   ],
   "source": [
    "import cv2 as cv\n",
    "import numpy as np\n",
    "print(cv.__version__)"
   ]
  },
  {
   "cell_type": "code",
   "execution_count": 10,
   "id": "1e76a679",
   "metadata": {},
   "outputs": [],
   "source": [
    "def show_wait_destroy(winname, img):\n",
    "    cv.namedWindow(winname, cv.WINDOW_NORMAL)\n",
    "    cv.imshow(winname, img)\n",
    "    cv.resizeWindow(winname, 400, 300)\n",
    "    cv.moveWindow(winname, 380, 200)\n",
    "    cv.waitKey(0)\n",
    "    cv.destroyWindow(winname)"
   ]
  },
  {
   "cell_type": "code",
   "execution_count": 12,
   "id": "fe950bdd",
   "metadata": {},
   "outputs": [],
   "source": [
    "image = cv.imread('sudoku_2.png')\n",
    "gray = cv.cvtColor(image, cv.COLOR_BGR2GRAY)\n",
    "show_wait_destroy('img', gray)"
   ]
  },
  {
   "cell_type": "code",
   "execution_count": 13,
   "id": "7941e2dc",
   "metadata": {},
   "outputs": [],
   "source": [
    "gray = cv.bitwise_not(gray)\n",
    "bw = cv.adaptiveThreshold(gray, 255, cv.ADAPTIVE_THRESH_MEAN_C, \\\n",
    "                                cv.THRESH_BINARY, 15, -2)\n",
    "show_wait_destroy(\"binary\", bw)"
   ]
  },
  {
   "cell_type": "code",
   "execution_count": 7,
   "id": "5cfba84f",
   "metadata": {},
   "outputs": [],
   "source": [
    "horizontal = np.copy(bw)\n",
    "vertical = np.copy(bw)\n",
    "cols = horizontal.shape[1]\n",
    "horizontal_size = cols // 10\n",
    "horizontalStructure = cv.getStructuringElement(cv.MORPH_RECT, (horizontal_size, 1))\n",
    "# Apply morphology operations\n",
    "horizontal = cv.erode(horizontal, horizontalStructure)\n",
    "horizontal = cv.dilate(horizontal, horizontalStructure)\n",
    "# Show extracted horizontal lines\n",
    "show_wait_destroy(\"horizontal\", horizontal)"
   ]
  },
  {
   "cell_type": "code",
   "execution_count": 7,
   "id": "cb169fb9",
   "metadata": {},
   "outputs": [],
   "source": [
    "rows = vertical.shape[0]\n",
    "verticalsize = rows // 10\n",
    "# Create structure element for extracting vertical lines through morphology operations\n",
    "verticalStructure = cv.getStructuringElement(cv.MORPH_RECT, (1, verticalsize))\n",
    "# Apply morphology operations\n",
    "vertical = cv.erode(vertical, verticalStructure)\n",
    "vertical = cv.dilate(vertical, verticalStructure)\n",
    "# Show extracted vertical lines\n",
    "show_wait_destroy(\"vertical\", vertical)"
   ]
  },
  {
   "cell_type": "code",
   "execution_count": 8,
   "id": "aa765e0b",
   "metadata": {},
   "outputs": [],
   "source": [
    "bitwiseOr = cv.bitwise_or(horizontal,vertical)\n",
    "show_wait_destroy(\"bitwiseOr\", bitwiseOr)\n"
   ]
  },
  {
   "cell_type": "code",
   "execution_count": 9,
   "id": "ceb872db",
   "metadata": {},
   "outputs": [],
   "source": [
    "squares = cv.bitwise_not(bitwiseOr)\n",
    "show_wait_destroy(\"squares\", squares)"
   ]
  },
  {
   "cell_type": "code",
   "execution_count": 10,
   "id": "606eeed8",
   "metadata": {},
   "outputs": [],
   "source": [
    "merge = cv.bitwise_and(squares, bw)\n",
    "show_wait_destroy(\"merge\", merge)"
   ]
  },
  {
   "cell_type": "code",
   "execution_count": null,
   "id": "e670d6d1",
   "metadata": {},
   "outputs": [],
   "source": [
    "\n",
    "\n"
   ]
  },
  {
   "cell_type": "code",
   "execution_count": null,
   "id": "019ee443",
   "metadata": {},
   "outputs": [],
   "source": []
  },
  {
   "cell_type": "code",
   "execution_count": 8,
   "id": "cb5f80d0",
   "metadata": {},
   "outputs": [
    {
     "name": "stdout",
     "output_type": "stream",
     "text": [
      "456\n"
     ]
    }
   ],
   "source": [
    "import math\n",
    "img = cv.imread(\"sudoku.png\")\n",
    "gray = cv.cvtColor(img, cv.COLOR_BGR2GRAY)\n",
    "show_wait_destroy(\"gray\", gray)\n",
    "edges = cv.Canny(gray, 100,100)\n",
    "show_wait_destroy(\"edges\", edges)\n",
    "lines = cv.HoughLinesP(edges, 1, math.pi/2, 2, None, 10, 1)\n",
    "print(len(lines))\n",
    "for line in lines[0]:\n",
    "    pt1 = (line[0],line[1])\n",
    "    pt2 = (line[2],line[3])\n",
    "    cv.line(img, pt1, pt2, (0,0,255), 3)\n",
    "show_wait_destroy(\"merge\", img)"
   ]
  },
  {
   "cell_type": "code",
   "execution_count": 14,
   "id": "5e210e65",
   "metadata": {},
   "outputs": [],
   "source": [
    "import cv2\n",
    "image = cv2.imread('sudoku_2.png')\n",
    "result = image.copy()\n",
    "gray = cv2.cvtColor(image,cv2.COLOR_BGR2GRAY)\n",
    "thresh = cv2.threshold(gray, 0, 255, cv2.THRESH_BINARY_INV + cv2.THRESH_OTSU)[1]\n",
    "show_wait_destroy(\"thresh\", thresh)\n",
    "cols = horizontal.shape[1]\n",
    "horizontal_size = cols // 5\n",
    "# Detect horizontal lines\n",
    "horizontal_kernel = cv2.getStructuringElement(cv2.MORPH_RECT, (horizontal_size,1))\n",
    "detect_horizontal = cv2.morphologyEx(thresh, cv2.MORPH_OPEN, horizontal_kernel, iterations=2)\n",
    "show_wait_destroy(\"detect_horizontal\", detect_horizontal)\n",
    "cnts_h = cv2.findContours(detect_horizontal, cv2.RETR_EXTERNAL, cv2.CHAIN_APPROX_SIMPLE)\n",
    "cnts_h = cnts_h[0] if len(cnts_h) == 2 else cnts_h[1]\n",
    "# print(cnts_h)\n",
    "for c in cnts_h:\n",
    "    cv2.drawContours(result, [c], -1, (36,255,12), 2)\n",
    "    \n",
    "show_wait_destroy(\"result-1\", result)\n",
    "rows = vertical.shape[0]\n",
    "verticalsize = rows // 5\n",
    "# Detect vertical lines\n",
    "vertical_kernel = cv2.getStructuringElement(cv2.MORPH_RECT, (1,verticalsize))\n",
    "detect_vertical = cv2.morphologyEx(thresh, cv2.MORPH_OPEN, vertical_kernel, iterations=2)\n",
    "show_wait_destroy(\"detect_horizontal\", detect_vertical)\n",
    "cnts_v = cv2.findContours(detect_vertical, cv2.RETR_EXTERNAL, cv2.CHAIN_APPROX_SIMPLE)\n",
    "cnts_v = cnts_v[0] if len(cnts_v) == 2 else cnts_v[1]\n",
    "for c in cnts_v:\n",
    "    cv2.drawContours(result, [c], -1, (36,255,12), 2)\n",
    "    \n",
    "show_wait_destroy(\"result-2\", result)"
   ]
  },
  {
   "cell_type": "code",
   "execution_count": 15,
   "id": "08fb7fb7",
   "metadata": {},
   "outputs": [],
   "source": [
    "show_wait_destroy(\"result\", result)"
   ]
  },
  {
   "cell_type": "code",
   "execution_count": 111,
   "id": "26e9ffcd",
   "metadata": {},
   "outputs": [
    {
     "name": "stdout",
     "output_type": "stream",
     "text": [
      "[[[  5   2]]\n",
      "\n",
      " [[  5   3]]\n",
      "\n",
      " [[224   3]]\n",
      "\n",
      " [[224   2]]]\n",
      "[[[  3   2]]\n",
      "\n",
      " [[  3 221]]\n",
      "\n",
      " [[  3 113]]\n",
      "\n",
      " [[  4 112]]\n",
      "\n",
      " [[  4   2]]]\n"
     ]
    }
   ],
   "source": [
    "print(cnts_h[6])\n",
    "print(cnts_v[6])"
   ]
  },
  {
   "cell_type": "code",
   "execution_count": 118,
   "id": "b71b0d5a",
   "metadata": {},
   "outputs": [],
   "source": [
    "out = cv2.rectangle(result, (37,2),(3,38), (0, 0, 255), 2)\n",
    "show_wait_destroy(\"result\", out)"
   ]
  },
  {
   "cell_type": "code",
   "execution_count": 122,
   "id": "0eeb4843",
   "metadata": {},
   "outputs": [
    {
     "name": "stdout",
     "output_type": "stream",
     "text": [
      "5\n",
      "5\n",
      "224\n",
      "224\n"
     ]
    }
   ],
   "source": [
    "for c in cnts_h[0]:\n",
    "    print(c[0][0])"
   ]
  },
  {
   "cell_type": "code",
   "execution_count": 16,
   "id": "43af38db",
   "metadata": {},
   "outputs": [
    {
     "name": "stdout",
     "output_type": "stream",
     "text": [
      "[221, 221, 222, 222, 186, 186, 149, 149, 113, 113, 76, 76, 39, 39, 3, 3, 3, 4, 4]\n"
     ]
    }
   ],
   "source": [
    "flat_list =[]\n",
    "for list in cnts_v:\n",
    "    for sublist in list:\n",
    "        flat_list.append(sublist[0][0])\n",
    "print(flat_list)"
   ]
  },
  {
   "cell_type": "code",
   "execution_count": 18,
   "id": "9afc9c69",
   "metadata": {},
   "outputs": [],
   "source": [
    "f1 = [sublist[0][1] for lists in cnts_h for sublist in lists]\n",
    "h_max = max(f1)\n",
    "h_min = min(f1)\n"
   ]
  },
  {
   "cell_type": "code",
   "execution_count": 19,
   "id": "a99f4846",
   "metadata": {},
   "outputs": [
    {
     "name": "stdout",
     "output_type": "stream",
     "text": [
      "1199\n",
      "0\n",
      "119\n"
     ]
    }
   ],
   "source": [
    "print(h_max)\n",
    "print(h_min)\n",
    "h_splits = (h_max+h_min)//len(cnts_h)\n",
    "print(h_splits)"
   ]
  },
  {
   "cell_type": "code",
   "execution_count": 20,
   "id": "13f9308c",
   "metadata": {},
   "outputs": [],
   "source": [
    "show_wait_destroy(\"result\", image)"
   ]
  },
  {
   "cell_type": "code",
   "execution_count": 87,
   "id": "495baa6c",
   "metadata": {},
   "outputs": [
    {
     "name": "stdout",
     "output_type": "stream",
     "text": [
      "[221, 222, 186, 149, 113, 76, 39, 3, 4]\n"
     ]
    }
   ],
   "source": [
    "for points in flat_list:\n",
    "    if int(points)+1 in flat_list or int(points)+2 in flat_list or points in flat_list or int(points)+3 in flat_list:\n",
    "        flat_list.remove(points)\n",
    "print(flat_list)"
   ]
  },
  {
   "cell_type": "code",
   "execution_count": 17,
   "id": "9b8443b7",
   "metadata": {},
   "outputs": [],
   "source": [
    "latest_flat=[]\n",
    "for points in flat_list:\n",
    "    if points not in latest_flat:\n",
    "        latest_flat.append(points)\n",
    "latest_flat=sorted(latest_flat)"
   ]
  },
  {
   "cell_type": "code",
   "execution_count": 18,
   "id": "75116d2c",
   "metadata": {},
   "outputs": [
    {
     "name": "stdout",
     "output_type": "stream",
     "text": [
      "[3, 4, 39, 76, 113, 149, 186, 221, 222]\n"
     ]
    }
   ],
   "source": [
    "print(latest_flat)"
   ]
  },
  {
   "cell_type": "code",
   "execution_count": 13,
   "id": "4dad593a",
   "metadata": {},
   "outputs": [
    {
     "name": "stdout",
     "output_type": "stream",
     "text": [
      "[3, 3, 4, 39, 76, 113, 149, 186, 221, 221]\n"
     ]
    }
   ],
   "source": [
    "remove= []\n",
    "for pointX in range(len(latest_flat)):\n",
    "    for pointY in range(0,len(latest_flat)-1):\n",
    "        if int(latest_flat[pointX])-int(latest_flat[pointY]) <=5 and int(latest_flat[pointX])-int(latest_flat[pointY]) >= 0:\n",
    "            remove.append(latest_flat[pointY])\n",
    "print(remove)"
   ]
  },
  {
   "cell_type": "code",
   "execution_count": 19,
   "id": "90915289",
   "metadata": {},
   "outputs": [],
   "source": [
    "remove= []\n",
    "for x in latest_flat:\n",
    "    y_list = [*range(x,x+10)]\n",
    "    for y in y_list:\n",
    "        if ( y in  latest_flat):\n",
    "            remove.append(y)"
   ]
  },
  {
   "cell_type": "code",
   "execution_count": 20,
   "id": "3a06e522",
   "metadata": {},
   "outputs": [
    {
     "name": "stdout",
     "output_type": "stream",
     "text": [
      "[3, 4, 4, 39, 76, 113, 149, 186, 221, 222, 222]\n"
     ]
    }
   ],
   "source": [
    "print(remove)"
   ]
  },
  {
   "cell_type": "code",
   "execution_count": 129,
   "id": "eec1b60b",
   "metadata": {},
   "outputs": [
    {
     "name": "stdout",
     "output_type": "stream",
     "text": [
      "[3, 76, 113, 149, 186, 221, 222]\n",
      "[3, 4, 113, 149, 186, 221, 222]\n",
      "[3, 4, 39, 76, 113, 149, 186, 221, 222]\n",
      "[3, 4, 39, 76, 113, 149, 186, 221, 222]\n",
      "[3, 4, 39, 76, 113, 149, 186, 221, 222]\n",
      "[3, 4, 39, 76, 113, 149, 186, 221, 222]\n",
      "[3, 4, 39, 76, 113, 149, 186, 221, 222]\n",
      "[3, 4, 39, 76, 113, 149, 186, 221, 222]\n",
      "[3, 4, 39, 76, 113, 149, 186, 221, 222]\n",
      "[3, 4, 39, 76, 113, 149, 186, 221, 222]\n"
     ]
    }
   ],
   "source": [
    "def rem(latest_flat,current):\n",
    "    latest_flat = latest_flat[:max(current - 2, 0)] + latest_flat[current:]\n",
    "    print(latest_flat)\n",
    "    return latest_flat\n",
    "\n",
    "for x in latest_flat:\n",
    "    rem(latest_flat,x)\n",
    "#     print(x)\n",
    "print(latest_flat)"
   ]
  },
  {
   "cell_type": "code",
   "execution_count": 21,
   "id": "596416dd",
   "metadata": {},
   "outputs": [
    {
     "name": "stdout",
     "output_type": "stream",
     "text": [
      "[3, 39, 76, 113, 149, 186, 221]\n"
     ]
    }
   ],
   "source": [
    "for x  in latest_flat:\n",
    "    if (int(x)+1)  in latest_flat:\n",
    "        latest_flat.remove(int(x)+1)\n",
    "    if (int(x)+2)  in latest_flat:\n",
    "        latest_flat.remove(int(x)+2)\n",
    "    if (int(x)+3)  in latest_flat:\n",
    "        latest_flat.remove(int(x)+3)\n",
    "print(latest_flat)"
   ]
  },
  {
   "cell_type": "code",
   "execution_count": 138,
   "id": "3a241c9a",
   "metadata": {},
   "outputs": [
    {
     "ename": "TypeError",
     "evalue": "'numpy.intc' object is not iterable",
     "output_type": "error",
     "traceback": [
      "\u001b[1;31m---------------------------------------------------------------------------\u001b[0m",
      "\u001b[1;31mTypeError\u001b[0m                                 Traceback (most recent call last)",
      "Input \u001b[1;32mIn [138]\u001b[0m, in \u001b[0;36m<cell line: 1>\u001b[1;34m()\u001b[0m\n\u001b[0;32m      1\u001b[0m \u001b[38;5;28;01mfor\u001b[39;00m i \u001b[38;5;129;01min\u001b[39;00m \u001b[38;5;28mrange\u001b[39m(\u001b[38;5;28mlen\u001b[39m(latest_flat)\u001b[38;5;241m-\u001b[39m\u001b[38;5;241m1\u001b[39m):\n\u001b[1;32m----> 2\u001b[0m     x \u001b[38;5;241m=\u001b[39m \u001b[38;5;28;43mzip\u001b[39;49m\u001b[43m(\u001b[49m\u001b[43mlatest_flat\u001b[49m\u001b[43m[\u001b[49m\u001b[43mi\u001b[49m\u001b[43m]\u001b[49m\u001b[43m,\u001b[49m\u001b[43mlatest_flat\u001b[49m\u001b[43m[\u001b[49m\u001b[43mi\u001b[49m\u001b[38;5;241;43m+\u001b[39;49m\u001b[38;5;241;43m1\u001b[39;49m\u001b[43m]\u001b[49m\u001b[43m)\u001b[49m\n\u001b[0;32m      3\u001b[0m \u001b[38;5;28mprint\u001b[39m(x)\n",
      "\u001b[1;31mTypeError\u001b[0m: 'numpy.intc' object is not iterable"
     ]
    }
   ],
   "source": [
    "for i in range(len(latest_flat)-1):\n",
    "    x = zip(latest_flat[i],latest_flat[i+1])\n",
    "print(x)"
   ]
  },
  {
   "cell_type": "code",
   "execution_count": 22,
   "id": "87b50abf",
   "metadata": {},
   "outputs": [],
   "source": [
    "i=0\n",
    "for x_v , y_v in zip(latest_flat, latest_flat[1:]):\n",
    "    for x_h , y_h in zip(latest_flat, latest_flat[1:]):\n",
    "#         print(x_v,y_v,x_h,y_h)\n",
    "        i+=1\n",
    "#         x_v = 4\n",
    "#         y_v = 39\n",
    "        cropped_image = image[x_v:y_v ,x_h:y_h]\n",
    "        gray = cv2.cvtColor(cropped_image,cv2.COLOR_BGR2GRAY)\n",
    "        thresh = cv2.threshold(gray, 0, 255, cv2.THRESH_BINARY_INV + cv2.THRESH_OTSU)[1]\n",
    "        show_wait_destroy(\"sample\",cropped_image)\n",
    "        show_wait_destroy(\"thresh\", thresh)\n",
    "        cv2.imwrite(\"cropped_images\\image_\"+str(i)+'.png',thresh)\n",
    "        "
   ]
  },
  {
   "cell_type": "code",
   "execution_count": null,
   "id": "bedd1d60",
   "metadata": {},
   "outputs": [],
   "source": [
    "\n"
   ]
  },
  {
   "cell_type": "code",
   "execution_count": null,
   "id": "eaf96c05",
   "metadata": {},
   "outputs": [],
   "source": []
  },
  {
   "cell_type": "markdown",
   "id": "3819a876",
   "metadata": {},
   "source": [
    "# CNN for image inference\n"
   ]
  },
  {
   "cell_type": "code",
   "execution_count": 23,
   "id": "515c2633",
   "metadata": {},
   "outputs": [],
   "source": [
    "import os\n",
    "import csv\n",
    "import datetime\n",
    "import numpy as np\n",
    "import pandas as pd\n",
    "import tensorflow as tf\n",
    "import keras\n",
    "import matplotlib.pyplot as plt\n",
    "from numpy import newaxis\n",
    "from PIL import Image\n",
    "from tensorflow.keras.datasets import mnist\n",
    "from keras.utils.np_utils import to_categorical\n",
    "from sklearn.model_selection import train_test_split\n",
    "import tensorflow.keras.backend as K"
   ]
  },
  {
   "cell_type": "code",
   "execution_count": 24,
   "id": "85d26dc6",
   "metadata": {},
   "outputs": [
    {
     "name": "stdout",
     "output_type": "stream",
     "text": [
      "tensorflow version is 2.8.0\n",
      "(60000, 28, 28)\n"
     ]
    },
    {
     "data": {
      "image/png": "[encoded data removed]",
      "text/plain": [
       "<Figure size 432x288 with 25 Axes>"
      ]
     },
     "metadata": {},
     "output_type": "display_data"
    }
   ],
   "source": [
    "print(\"tensorflow version is \"+ str(tf.__version__))\n",
    "(X_train, Y_train), (X_test, Y_test) = mnist.load_data()\n",
    "print(X_train.shape)\n",
    "for i in range(25):\n",
    "  plt.subplot(5,5,i+1)\n",
    "  plt.xticks([])\n",
    "  plt.yticks([])\n",
    "  plt.grid(False)\n",
    "  plt.imshow(X_train[i], cmap='gray')\n",
    "  plt.xlabel(Y_train[i])\n",
    "  plt.gray()\n",
    "plt.show()"
   ]
  },
  {
   "cell_type": "code",
   "execution_count": 25,
   "id": "33ce3577",
   "metadata": {},
   "outputs": [
    {
     "name": "stdout",
     "output_type": "stream",
     "text": [
      "unique labels: [0 1 2 3 4 5 6 7 8 9] \n",
      "Frequency of individual labels: [5923 6742 5958 6131 5842 5421 5918 6265 5851 5949] \n",
      "Total sum is: 60000\n",
      "(60000, 28, 28)\n",
      "X_train shape:  (60000, 28, 28, 1)\n",
      "X_test shape:  (10000, 28, 28, 1)\n"
     ]
    }
   ],
   "source": [
    "unique_train,frequency_train=np.unique(Y_train,return_counts=True)\n",
    "total=np.sum(frequency_train)\n",
    "print(\"unique labels: {} \\nFrequency of individual labels: {} \\nTotal sum is: {}\".format(unique_train,frequency_train,total))\n",
    "X_train=X_train/255\n",
    "X_test=X_test/255\n",
    "print(X_train.shape)\n",
    "np.reshape(X_train,(-1,28,28))\n",
    "X_train=X_train[:,:,:,newaxis]\n",
    "np.reshape(X_test,(-1,28,28,1))\n",
    "X_test=X_test[:,:,:,newaxis]\n",
    "print(\"X_train shape: \",X_train.shape)\n",
    "print(\"X_test shape: \",X_test.shape)"
   ]
  },
  {
   "cell_type": "code",
   "execution_count": 26,
   "id": "9d6cb946",
   "metadata": {},
   "outputs": [
    {
     "name": "stdout",
     "output_type": "stream",
     "text": [
      "[[0. 0. 0. ... 1. 0. 0.]\n",
      " [0. 0. 1. ... 0. 0. 0.]\n",
      " [0. 1. 0. ... 0. 0. 0.]\n",
      " ...\n",
      " [0. 0. 0. ... 0. 0. 0.]\n",
      " [0. 0. 0. ... 0. 0. 0.]\n",
      " [0. 0. 0. ... 0. 0. 0.]]\n",
      "x_train:  (54000, 28, 28, 1)\n",
      "x_test:  (6000, 28, 28, 1)\n",
      "y_train:  (54000, 10)\n",
      "y_test:  (6000, 10)\n"
     ]
    }
   ],
   "source": [
    "Y_train=to_categorical(Y_train,num_classes=10)\n",
    "Y_test=to_categorical(Y_test,num_classes=10)\n",
    "print(Y_test)\n",
    "X_train,X_val,Y_train,Y_val=train_test_split(X_train,Y_train,test_size=0.1)\n",
    "np.reshape(X_val,(-1,28,28))\n",
    "print(\"x_train: \",X_train.shape)\n",
    "print(\"x_test: \",X_val.shape)\n",
    "print(\"y_train: \",Y_train.shape)\n",
    "print(\"y_test: \",Y_val.shape)"
   ]
  },
  {
   "cell_type": "code",
   "execution_count": 27,
   "id": "6ca6d559",
   "metadata": {},
   "outputs": [
    {
     "name": "stdout",
     "output_type": "stream",
     "text": [
      "Model: \"sequential\"\n",
      "_________________________________________________________________\n",
      " Layer (type)                Output Shape              Param #   \n",
      "=================================================================\n",
      " conv2d (Conv2D)             (None, 28, 28, 32)        320       \n",
      "                                                                 \n",
      " max_pooling2d (MaxPooling2D  (None, 14, 14, 32)       0         \n",
      " )                                                               \n",
      "                                                                 \n",
      " dropout (Dropout)           (None, 14, 14, 32)        0         \n",
      "                                                                 \n",
      " conv2d_1 (Conv2D)           (None, 14, 14, 32)        9248      \n",
      "                                                                 \n",
      " max_pooling2d_1 (MaxPooling  (None, 7, 7, 32)         0         \n",
      " 2D)                                                             \n",
      "                                                                 \n",
      " dropout_1 (Dropout)         (None, 7, 7, 32)          0         \n",
      "                                                                 \n",
      " conv2d_2 (Conv2D)           (None, 7, 7, 64)          18496     \n",
      "                                                                 \n",
      " max_pooling2d_2 (MaxPooling  (None, 3, 3, 64)         0         \n",
      " 2D)                                                             \n",
      "                                                                 \n",
      " dropout_2 (Dropout)         (None, 3, 3, 64)          0         \n",
      "                                                                 \n",
      " flatten (Flatten)           (None, 576)               0         \n",
      "                                                                 \n",
      " dense (Dense)               (None, 256)               147712    \n",
      "                                                                 \n",
      " dropout_3 (Dropout)         (None, 256)               0         \n",
      "                                                                 \n",
      " dense_1 (Dense)             (None, 10)                2570      \n",
      "                                                                 \n",
      "=================================================================\n",
      "Total params: 178,346\n",
      "Trainable params: 178,346\n",
      "Non-trainable params: 0\n",
      "_________________________________________________________________\n"
     ]
    }
   ],
   "source": [
    "model = keras.Sequential()\n",
    "model.add(keras.layers.Conv2D(filters=32,kernel_size=(3,3),padding='Same',activation='relu',input_shape=(28,28,1)))\n",
    "model.add(keras.layers.MaxPool2D(pool_size=(2,2)))\n",
    "model.add(keras.layers.Dropout(0.25))\n",
    "\n",
    "model.add(keras.layers.Conv2D(filters=32,kernel_size=(3,3),padding='Same',activation='relu'))\n",
    "model.add(keras.layers.MaxPool2D(pool_size=(2,2),strides=(2,2)))\n",
    "model.add(keras.layers.Dropout(0.25))\n",
    "\n",
    "model.add(keras.layers.Conv2D(filters=64,kernel_size=(3,3),padding=\"Same\",activation=\"relu\"))\n",
    "model.add(keras.layers.MaxPool2D(pool_size=(2,2),strides=(2,2)))\n",
    "model.add(keras.layers.Dropout(0.25))\n",
    "\n",
    "model.add(keras.layers.Flatten())\n",
    "model.add(keras.layers.Dense(256, activation = \"relu\"))\n",
    "model.add(keras.layers.Dropout(0.5))\n",
    "model.add(keras.layers.Dense(10, activation = \"softmax\"))\n",
    "model.summary()"
   ]
  },
  {
   "cell_type": "code",
   "execution_count": 28,
   "id": "53500428",
   "metadata": {},
   "outputs": [],
   "source": [
    "model.compile(optimizer=\"rmsprop\",loss=\"categorical_crossentropy\",metrics=[\"accuracy\",\"AUC\"])\n",
    "batch_size=32\n",
    "epochs=20\n",
    "class StoreModelHistory(keras.callbacks.Callback):\n",
    "\n",
    "  def on_epoch_end(self,batch,logs=None):\n",
    "    if ('lr' not in logs.keys()):\n",
    "      logs.setdefault('lr',0)\n",
    "      logs['lr'] = K.get_value(self.model.optimizer.lr)\n",
    "\n",
    "    if not ('model_history.csv' in os.listdir(os.getcwd())):\n",
    "      with open('model_history.csv','a') as f:\n",
    "        y=csv.DictWriter(f,logs.keys())\n",
    "        y.writeheader()\n",
    "\n",
    "    with open('model_history.csv','a') as f:\n",
    "      y=csv.DictWriter(f,logs.keys())\n",
    "      y.writerow(logs)\n",
    "%load_ext tensorboard"
   ]
  },
  {
   "cell_type": "code",
   "execution_count": 29,
   "id": "23d56a7f",
   "metadata": {},
   "outputs": [
    {
     "name": "stdout",
     "output_type": "stream",
     "text": [
      "Epoch 1/20\n",
      "50/50 [==============================] - 85s 1s/step - loss: 1.9278 - accuracy: 0.3200 - auc: 0.7457 - val_loss: 1.2195 - val_accuracy: 0.6612 - val_auc: 0.9391 - lr: 0.0010\n",
      "Epoch 2/20\n",
      "50/50 [==============================] - 45s 912ms/step - loss: 1.0317 - accuracy: 0.6544 - auc: 0.9399 - val_loss: 0.5092 - val_accuracy: 0.8673 - val_auc: 0.9893 - lr: 0.0010\n",
      "Epoch 3/20\n",
      "50/50 [==============================] - 36s 729ms/step - loss: 0.6424 - accuracy: 0.7763 - auc: 0.9762 - val_loss: 0.3297 - val_accuracy: 0.9108 - val_auc: 0.9944 - lr: 0.0010\n",
      "Epoch 4/20\n",
      "50/50 [==============================] - 44s 875ms/step - loss: 0.5205 - accuracy: 0.8338 - auc: 0.9829 - val_loss: 0.2572 - val_accuracy: 0.9262 - val_auc: 0.9961 - lr: 0.0010\n",
      "Epoch 5/20\n",
      "50/50 [==============================] - 38s 775ms/step - loss: 0.4139 - accuracy: 0.8687 - auc: 0.9876 - val_loss: 0.2603 - val_accuracy: 0.9182 - val_auc: 0.9953 - lr: 0.0010\n",
      "Epoch 6/20\n",
      "50/50 [==============================] - 44s 885ms/step - loss: 0.3668 - accuracy: 0.8838 - auc: 0.9910 - val_loss: 0.1965 - val_accuracy: 0.9418 - val_auc: 0.9968 - lr: 0.0010\n",
      "Epoch 7/20\n",
      "50/50 [==============================] - 67s 1s/step - loss: 0.3027 - accuracy: 0.9019 - auc: 0.9927 - val_loss: 0.1652 - val_accuracy: 0.9472 - val_auc: 0.9973 - lr: 0.0010\n",
      "Epoch 8/20\n",
      "50/50 [==============================] - 46s 936ms/step - loss: 0.2963 - accuracy: 0.9025 - auc: 0.9935 - val_loss: 0.1822 - val_accuracy: 0.9423 - val_auc: 0.9968 - lr: 0.0010\n",
      "Epoch 9/20\n",
      "50/50 [==============================] - 44s 897ms/step - loss: 0.2924 - accuracy: 0.9025 - auc: 0.9935 - val_loss: 0.1523 - val_accuracy: 0.9502 - val_auc: 0.9975 - lr: 0.0010\n",
      "Epoch 10/20\n",
      "50/50 [==============================] - 43s 865ms/step - loss: 0.2749 - accuracy: 0.9100 - auc: 0.9942 - val_loss: 0.1371 - val_accuracy: 0.9575 - val_auc: 0.9981 - lr: 0.0010\n",
      "Epoch 11/20\n",
      "50/50 [==============================] - 44s 889ms/step - loss: 0.2287 - accuracy: 0.9250 - auc: 0.9953 - val_loss: 0.1336 - val_accuracy: 0.9578 - val_auc: 0.9979 - lr: 0.0010\n",
      "Epoch 12/20\n",
      "50/50 [==============================] - 44s 885ms/step - loss: 0.2116 - accuracy: 0.9312 - auc: 0.9956 - val_loss: 0.1322 - val_accuracy: 0.9568 - val_auc: 0.9975 - lr: 0.0010\n",
      "Epoch 13/20\n",
      "50/50 [==============================] - 48s 965ms/step - loss: 0.2035 - accuracy: 0.9331 - auc: 0.9966 - val_loss: 0.1161 - val_accuracy: 0.9630 - val_auc: 0.9982 - lr: 0.0010\n",
      "Epoch 14/20\n",
      "50/50 [==============================] - 47s 943ms/step - loss: 0.1818 - accuracy: 0.9369 - auc: 0.9975 - val_loss: 0.1124 - val_accuracy: 0.9653 - val_auc: 0.9983 - lr: 0.0010\n",
      "Epoch 15/20\n",
      "50/50 [==============================] - 43s 872ms/step - loss: 0.2051 - accuracy: 0.9413 - auc: 0.9945 - val_loss: 0.1078 - val_accuracy: 0.9648 - val_auc: 0.9986 - lr: 0.0010\n",
      "Epoch 16/20\n",
      "50/50 [==============================] - 44s 889ms/step - loss: 0.1928 - accuracy: 0.9438 - auc: 0.9950 - val_loss: 0.1137 - val_accuracy: 0.9643 - val_auc: 0.9983 - lr: 0.0010\n",
      "Epoch 17/20\n",
      "50/50 [==============================] - 43s 878ms/step - loss: 0.1837 - accuracy: 0.9406 - auc: 0.9967 - val_loss: 0.1014 - val_accuracy: 0.9665 - val_auc: 0.9988 - lr: 0.0010\n",
      "Epoch 18/20\n",
      "50/50 [==============================] - 45s 893ms/step - loss: 0.2054 - accuracy: 0.9400 - auc: 0.9945 - val_loss: 0.1051 - val_accuracy: 0.9670 - val_auc: 0.9985 - lr: 0.0010\n",
      "Epoch 19/20\n",
      "50/50 [==============================] - 42s 854ms/step - loss: 0.1829 - accuracy: 0.9444 - auc: 0.9958 - val_loss: 0.0954 - val_accuracy: 0.9673 - val_auc: 0.9992 - lr: 0.0010\n",
      "Epoch 20/20\n",
      "50/50 [==============================] - 43s 873ms/step - loss: 0.1309 - accuracy: 0.9556 - auc: 0.9984 - val_loss: 0.0976 - val_accuracy: 0.9660 - val_auc: 0.9984 - lr: 0.0010\n",
      "{'loss': [1.9277911186218262, 1.0316511392593384, 0.6424116492271423, 0.520490825176239, 0.4139385521411896, 0.3668428659439087, 0.30271095037460327, 0.29632484912872314, 0.29238638281822205, 0.2748611867427826, 0.2286560982465744, 0.21158213913440704, 0.20353512465953827, 0.18181291222572327, 0.20506995916366577, 0.19284698367118835, 0.18370471894741058, 0.20540811121463776, 0.18290908634662628, 0.1308521032333374], 'accuracy': [0.3199999928474426, 0.6543750166893005, 0.7762500047683716, 0.8337500095367432, 0.8687499761581421, 0.8837500214576721, 0.9018750190734863, 0.9024999737739563, 0.9024999737739563, 0.9100000262260437, 0.925000011920929, 0.9312499761581421, 0.9331250190734863, 0.9368749856948853, 0.9412500262260437, 0.9437500238418579, 0.940625011920929, 0.9399999976158142, 0.9443749785423279, 0.9556249976158142], 'auc': [0.7456897497177124, 0.9399343132972717, 0.9761652946472168, 0.9829000234603882, 0.9875844717025757, 0.9909920692443848, 0.9927157759666443, 0.9935106635093689, 0.9934824109077454, 0.9942070245742798, 0.9953317046165466, 0.9956151843070984, 0.9965663552284241, 0.9974506497383118, 0.9945454001426697, 0.9949806332588196, 0.9966747760772705, 0.994462788105011, 0.9957761764526367, 0.9983692765235901], 'val_loss': [1.219488501548767, 0.5091803669929504, 0.3296533524990082, 0.2571982741355896, 0.2602871060371399, 0.19645728170871735, 0.16520410776138306, 0.18218454718589783, 0.15229083597660065, 0.13709349930286407, 0.1336228996515274, 0.13221564888954163, 0.11611372977495193, 0.11236730962991714, 0.10783172398805618, 0.11371996998786926, 0.10144589096307755, 0.10509256273508072, 0.09542049467563629, 0.09757712483406067], 'val_accuracy': [0.6611666679382324, 0.8673333525657654, 0.9108333587646484, 0.9261666536331177, 0.9181666374206543, 0.9418333172798157, 0.9471666812896729, 0.9423333406448364, 0.950166642665863, 0.9574999809265137, 0.9578333497047424, 0.9568333625793457, 0.9629999995231628, 0.9653333425521851, 0.9648333191871643, 0.9643333554267883, 0.9664999842643738, 0.9670000076293945, 0.9673333168029785, 0.9660000205039978], 'val_auc': [0.9390553832054138, 0.9893354177474976, 0.9943704605102539, 0.9961162209510803, 0.9952918291091919, 0.9968095421791077, 0.9972766637802124, 0.9968085885047913, 0.9974861145019531, 0.9981382489204407, 0.9979352951049805, 0.9975488185882568, 0.9981515407562256, 0.9982870817184448, 0.9986024498939514, 0.9982610940933228, 0.9988237619400024, 0.9984917640686035, 0.9992495179176331, 0.9983586668968201], 'lr': [0.001, 0.001, 0.001, 0.001, 0.001, 0.001, 0.001, 0.001, 0.001, 0.001, 0.001, 0.001, 0.001, 0.001, 0.001, 0.001, 0.001, 0.001, 0.001, 0.001]}\n"
     ]
    },
    {
     "data": {
      "text/plain": [
       "Reusing TensorBoard on port 6006 (pid 2024), started 8 days, 22:40:53 ago. (Use '!kill 2024' to kill it.)"
      ]
     },
     "metadata": {},
     "output_type": "display_data"
    },
    {
     "data": {
      "text/html": [
       "\n",
       "      <iframe id=\"tensorboard-frame-bc02e84f5c79028d\" width=\"100%\" height=\"800\" frameborder=\"0\">\n",
       "      </iframe>\n",
       "      <script>\n",
       "        (function() {\n",
       "          const frame = document.getElementById(\"tensorboard-frame-bc02e84f5c79028d\");\n",
       "          const url = new URL(\"/\", window.location);\n",
       "          const port = 6006;\n",
       "          if (port) {\n",
       "            url.port = port;\n",
       "          }\n",
       "          frame.src = url;\n",
       "        })();\n",
       "      </script>\n",
       "    "
      ],
      "text/plain": [
       "<IPython.core.display.HTML object>"
      ]
     },
     "metadata": {},
     "output_type": "display_data"
    }
   ],
   "source": [
    "log_dir = \"logs/fit/\" + datetime.datetime.now().strftime(\"%Y%m%d-%H%M%S\")\n",
    "tensorboard_callback = tf.keras.callbacks.TensorBoard(log_dir=log_dir, histogram_freq=1)\n",
    "hist= model.fit(X_train,Y_train,batch_size=batch_size,epochs=epochs,validation_data=(X_val,Y_val),steps_per_epoch=1600//batch_size,callbacks=[StoreModelHistory(),tensorboard_callback])\n",
    "print(hist.history)\n",
    "%tensorboard --logdir logs/fit"
   ]
  },
  {
   "cell_type": "code",
   "execution_count": 32,
   "id": "e24e19a6",
   "metadata": {},
   "outputs": [
    {
     "name": "stdout",
     "output_type": "stream",
     "text": [
      "[[5, 6, 6, 6, 4, 6], [0, 5, 3, 5, 5, 5], [5, 5, 4, 5, 5, 5], [6, 8, 8, 4, 8, 8], [5, 5, 5, 3, 5, 5], [8, 1, 8, 8, 8, 8]]\n"
     ]
    }
   ],
   "source": [
    "sudoku_list=[]\n",
    "row = []\n",
    "for x in range(1,37):\n",
    "    inter_path = r'C:\\Users\\Living Room\\cropped_images\\image_'\n",
    "    img_path= inter_path+str(x)+'.png'\n",
    "    # print(img_path)\n",
    "    img = tf.keras.utils.load_img(\n",
    "        img_path, target_size=(28,28))\n",
    "    img = tf.image.rgb_to_grayscale(img)\n",
    "    #img_array = tf.keras.utils.img_to_array(img)\n",
    "    img_array = tf.expand_dims(img, 0) \n",
    "\n",
    "    predictions = model.predict(img_array)\n",
    "    score = tf.nn.softmax(predictions[0])\n",
    "    x = np.argmax(predictions, axis=None, out=None)\n",
    "#     print(x)\n",
    "    row.append(x)\n",
    "    if (len(row) == len(latest_flat)-1):\n",
    "        sudoku_list.append(row)\n",
    "        row = []\n",
    "    \n",
    "\n",
    "print(sudoku_list)"
   ]
  },
  {
   "cell_type": "code",
   "execution_count": 28,
   "id": "d1d0c0e2",
   "metadata": {},
   "outputs": [
    {
     "name": "stdout",
     "output_type": "stream",
     "text": [
      "7\n"
     ]
    }
   ],
   "source": [
    "img_path=r'C:\\Users\\Living Room\\cropped_images\\image_2.png'\n",
    "img = tf.keras.utils.load_img(\n",
    "    img_path, target_size=(28,28))\n",
    "img = tf.image.rgb_to_grayscale(img)\n",
    "#img_array = tf.keras.utils.img_to_array(img)\n",
    "img_array = tf.expand_dims(img, 0) # Create a batch\n",
    "predictions = model.predict(img_array)\n",
    "score = tf.nn.softmax(predictions[0])\n",
    "x = np.argmax(predictions, axis=None, out=None)\n",
    "print(x)        "
   ]
  },
  {
   "cell_type": "code",
   "execution_count": null,
   "id": "5e820c16",
   "metadata": {},
   "outputs": [],
   "source": []
  }
 ],
 "metadata": {
  "kernelspec": {
   "display_name": "Python 3 (ipykernel)",
   "language": "python",
   "name": "python3"
  },
  "language_info": {
   "codemirror_mode": {
    "name": "ipython",
    "version": 3
   },
   "file_extension": ".py",
   "mimetype": "text/x-python",
   "name": "python",
   "nbconvert_exporter": "python",
   "pygments_lexer": "ipython3",
   "version": "3.10.2"
  }
 },
 "nbformat": 4,
 "nbformat_minor": 5
}
